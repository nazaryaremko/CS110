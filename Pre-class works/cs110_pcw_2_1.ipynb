{
 "cells": [
  {
   "cell_type": "markdown",
   "metadata": {},
   "source": [
    "Before you turn this problem in, make sure everything runs as expected. First, **restart the kernel** (in the menubar, select Kernel$\\rightarrow$Restart) and then **run all cells** (in the menubar, select Cell$\\rightarrow$Run All).\n",
    "\n",
    "Make sure you fill in any place that says `YOUR CODE HERE` or \"YOUR ANSWER HERE\", as well as your name and collaborators below:"
   ]
  },
  {
   "cell_type": "code",
   "execution_count": 24,
   "metadata": {
    "collapsed": true
   },
   "outputs": [],
   "source": [
    "NAME = \"Nazar Yaremko\"\n",
    "COLLABORATORS = \"\""
   ]
  },
  {
   "cell_type": "markdown",
   "metadata": {},
   "source": [
    "---"
   ]
  },
  {
   "cell_type": "markdown",
   "metadata": {
    "deletable": false,
    "editable": false,
    "nbgrader": {
     "checksum": "4394bdd5d17d8ce7ce4e758066ee0266",
     "grade": false,
     "grade_id": "cell-9e44910e5a73668d",
     "locked": true,
     "schema_version": 1,
     "solution": false
    }
   },
   "source": [
    "# CS110 Pre-class Work 2.1\n",
    "\n",
    "## Question 1.\n",
    "\n",
    "First, please read carefully [this note](https://drive.google.com/open?id=1SfrRTKWDb6szsJENgvNF7-u2B96ecaF2) which reviews the MERGE operation in Cormen et al.\n",
    "\n",
    "After reviewing the example above (Cormen et. al., Figure 2.3),  you need to manually create similar illustrations as in the example above but this time for the input array:\n",
    "\n",
    "![array](array.png)\n",
    "\n",
    "For this exercise, assume that the call to the algorithm is MERGE(A, 1, 3, 6) and draw different resulting stages of the arrays A, L, and R as the merge algorithm is executed.  You can hand-draw or use any drawing tool to produce panel illustrations as in the example above.  Include your final drawings in the cell below. Feel free to use additional cells (Markdown or Code) for this question.\n"
   ]
  },
  {
   "cell_type": "markdown",
   "metadata": {
    "deletable": false,
    "nbgrader": {
     "checksum": "b4d0caf51fb6b587f68db4e806af35d0",
     "grade": true,
     "grade_id": "cell-badbff7790708987",
     "locked": false,
     "points": 0,
     "schema_version": 1,
     "solution": true
    }
   },
   "source": [
    "https://docs.google.com/document/d/1-XpR6YvMwnb2LZYjfZgmkGQbdvFeNCbhjYi0wqjuJDY/edit\n",
    "    "
   ]
  },
  {
   "cell_type": "markdown",
   "metadata": {
    "deletable": false,
    "editable": false,
    "nbgrader": {
     "checksum": "7c9608898d23ecbe07c084ca6d6da655",
     "grade": false,
     "grade_id": "cell-6dd1317d1ea8ab9f",
     "locked": true,
     "schema_version": 1,
     "solution": false
    }
   },
   "source": [
    "## Question 2.\n",
    "Now using your understanding of Part I of the merge algorithm, can you think of an efficient way to implement this part in Python? (hint: using Python list). Give your answer in prose in the cell below."
   ]
  },
  {
   "cell_type": "markdown",
   "metadata": {
    "deletable": false,
    "nbgrader": {
     "checksum": "9bf35550640c33f366c5cffad7fdf33a",
     "grade": true,
     "grade_id": "cell-4f961721620a6645",
     "locked": false,
     "points": 0,
     "schema_version": 1,
     "solution": true
    }
   },
   "source": [
    "I think that we can do two functions: one that breaks the lists down into smaller components and another one that merges them together while comparing them and chossing a smalle number to put in the beginning of the sorted list."
   ]
  },
  {
   "cell_type": "markdown",
   "metadata": {
    "deletable": false,
    "editable": false,
    "nbgrader": {
     "checksum": "010584ea3a4f00fba43b52bb04cd0ed2",
     "grade": false,
     "grade_id": "cell-84932c7c0c20b750",
     "locked": true,
     "schema_version": 1,
     "solution": false
    }
   },
   "source": [
    "## Question 3.\n",
    "\n",
    "Write a Python implementation of the merge pseudocode (both parts), your Python function must take the same four input arguments as described in the $MERGE(A,p,q,r)$. Test your code by running the example in problem 1 and 2 of this pre-class work. Feel free to come up with additional cases to check if your code is working properly. Your code should return A "
   ]
  },
  {
   "cell_type": "code",
   "execution_count": 16,
   "metadata": {
    "deletable": false,
    "nbgrader": {
     "checksum": "43760e27d0b385c30476353b3d546a79",
     "grade": false,
     "grade_id": "cell-a67719d65c1ac9f3",
     "locked": false,
     "schema_version": 1,
     "solution": true
    }
   },
   "outputs": [
    {
     "data": {
      "text/plain": [
       "[2, 6, 7, 8, 1, 4, 6, 9]"
      ]
     },
     "execution_count": 16,
     "metadata": {},
     "output_type": "execute_result"
    }
   ],
   "source": [
    "def merge(A, p, q, r):\n",
    "    n1 = q - p + 1\n",
    "    n2 = r - q\n",
    "    L = []\n",
    "    R = []\n",
    "    for i in range (0,n1):\n",
    "        L.append(A[p+i])\n",
    "    for j in range(0,n2):\n",
    "        R.append(A[q+j+1])\n",
    "    L.append(max(A)+1)\n",
    "    R.append(max(A)+1)\n",
    "    i = 0\n",
    "    j = 0\n",
    "    for k in range(p,r+1): \n",
    "        if L[i] <= R[j]:\n",
    "            A[k] = L[i]\n",
    "            i = i+1\n",
    "        else:\n",
    "            A[k] = R[j]\n",
    "            j = j+1\n",
    "    return A\n",
    "\n",
    "list1 = [2,6,7,8,1,4,6,9]\n",
    "merge(list1, 0, 2, 5)"
   ]
  },
  {
   "cell_type": "code",
   "execution_count": 17,
   "metadata": {
    "collapsed": true,
    "deletable": false,
    "editable": false,
    "nbgrader": {
     "checksum": "699908274975a6bff4f9fb021e666ce4",
     "grade": true,
     "grade_id": "cell-e98759fe14428af0",
     "locked": true,
     "points": 0,
     "schema_version": 1,
     "solution": false
    }
   },
   "outputs": [],
   "source": [
    "# Please ignore this cell. This cell is for us to implement the tests \n",
    "# to see if your code works properly. "
   ]
  },
  {
   "cell_type": "markdown",
   "metadata": {
    "deletable": false,
    "editable": false,
    "nbgrader": {
     "checksum": "35e241fec3dd026733d04a51fa2972fe",
     "grade": false,
     "grade_id": "cell-49f3f61ee6d72bb9",
     "locked": true,
     "schema_version": 1,
     "solution": false
    }
   },
   "source": [
    "## Question 2\n",
    "Suppose that your Python implementation of the merge algorithm is already working. Inspect the code for merge sort below:"
   ]
  },
  {
   "cell_type": "code",
   "execution_count": 18,
   "metadata": {
    "collapsed": true,
    "deletable": false,
    "editable": false,
    "nbgrader": {
     "checksum": "53611abb1448334a346783091382fb12",
     "grade": false,
     "grade_id": "cell-073a21c6aac8225e",
     "locked": true,
     "schema_version": 1,
     "solution": false
    }
   },
   "outputs": [],
   "source": [
    "def merge_sort(A,p,r):\n",
    "    if p < r:\n",
    "        q = (p+r)/2\n",
    "        merge_sort(A,p,q)\n",
    "        merge_sort(A,q+1,r)\n",
    "        merge(A,p,q,r)\n",
    "    return(A)"
   ]
  },
  {
   "cell_type": "markdown",
   "metadata": {
    "deletable": false,
    "editable": false,
    "nbgrader": {
     "checksum": "b708edb1e6e70731f3ec68d1d11c2890",
     "grade": false,
     "grade_id": "cell-c19a4320995e15b2",
     "locked": true,
     "schema_version": 1,
     "solution": false
    }
   },
   "source": [
    "Copy and paste the code above to the cell below and fix the bug in it. "
   ]
  },
  {
   "cell_type": "code",
   "execution_count": 19,
   "metadata": {
    "deletable": false,
    "nbgrader": {
     "checksum": "d52aee435812fe91886c6dcdfc4e3f6d",
     "grade": false,
     "grade_id": "cell-311695db35c06d65",
     "locked": false,
     "schema_version": 1,
     "solution": true
    }
   },
   "outputs": [
    {
     "data": {
      "text/plain": [
       "[1, 2, 4, 6, 6, 7, 8, 9]"
      ]
     },
     "execution_count": 19,
     "metadata": {},
     "output_type": "execute_result"
    }
   ],
   "source": [
    "def merge_sort(A,p,r):\n",
    "    if p < r:\n",
    "        q = (p+r)//2\n",
    "        merge_sort(A,p,q)\n",
    "        merge_sort(A,q+1,r)\n",
    "        merge(A,p,q,r)\n",
    "    return(A)\n",
    "\n",
    "merge_sort(list1, 0, len(list1)-1)"
   ]
  },
  {
   "cell_type": "markdown",
   "metadata": {},
   "source": [
    "Instead of q = (p+r)/2 we use q = (p+(r-1))/2"
   ]
  },
  {
   "cell_type": "code",
   "execution_count": 20,
   "metadata": {
    "collapsed": true,
    "deletable": false,
    "editable": false,
    "nbgrader": {
     "checksum": "35fbb3c437b3ba39ede0d87d6719223b",
     "grade": true,
     "grade_id": "cell-a3a71f67390c1f82",
     "locked": true,
     "points": 0,
     "schema_version": 1,
     "solution": false
    }
   },
   "outputs": [],
   "source": [
    "# Please ignore this cell. This cell is for us to implement the tests \n",
    "# to see if your code works properly. "
   ]
  },
  {
   "cell_type": "markdown",
   "metadata": {
    "deletable": false,
    "editable": false,
    "nbgrader": {
     "checksum": "61cfba995efe3c9c37092a650047fdf3",
     "grade": false,
     "grade_id": "cell-5b296f793fefdbfe",
     "locked": true,
     "schema_version": 1,
     "solution": false
    }
   },
   "source": [
    "# Question 5.\n",
    "As in the previous Lesson, count the number of steps and time your merge_sort() function with the following input: `list_k = [i for i in range(100*k, 0, -1)] `, where $k= 1, 2, 3, …, 15 $. \n"
   ]
  },
  {
   "cell_type": "code",
   "execution_count": 21,
   "metadata": {},
   "outputs": [
    {
     "data": {
      "text/plain": [
       "32"
      ]
     },
     "execution_count": 21,
     "metadata": {},
     "output_type": "execute_result"
    }
   ],
   "source": [
    "def merge1(A, p, q, r):\n",
    "    step_count = 0\n",
    "    n1 = q - p + 1\n",
    "    step_count += 1\n",
    "    n2 = r - q\n",
    "    step_count += 1\n",
    "    L = []\n",
    "    step_count += 1\n",
    "    R = []\n",
    "    step_count += 1\n",
    "    for i in range (0,n1):\n",
    "        L.append(A[p+i])\n",
    "        step_count += 1\n",
    "    for j in range(0,n2):\n",
    "        R.append(A[q+j+1])\n",
    "        step_count += 1\n",
    "    L.append(max(A)+1)\n",
    "    step_count += 1\n",
    "    R.append(max(A)+1)\n",
    "    step_count += 1\n",
    "    i = 0\n",
    "    step_count += 1\n",
    "    j = 0\n",
    "    step_count += 1\n",
    "    for k in range(p,r+1): \n",
    "        if L[i] <= R[j]:\n",
    "            A[k] = L[i]\n",
    "            step_count += 1\n",
    "            i = i+1\n",
    "            step_count += 1\n",
    "        else:\n",
    "            A[k] = R[j]\n",
    "            step_count += 1\n",
    "            j = j+1\n",
    "            step_count += 1\n",
    "    return step_count\n",
    "\n",
    "merge1(list1, 0, 3, 7)"
   ]
  },
  {
   "cell_type": "code",
   "execution_count": 22,
   "metadata": {},
   "outputs": [
    {
     "data": {
      "text/plain": [
       "33"
      ]
     },
     "execution_count": 22,
     "metadata": {},
     "output_type": "execute_result"
    }
   ],
   "source": [
    "def merge_sort1(A,p,r):\n",
    "    step_count = merge1(A, 0, int((p+r/2)-1), r-1)\n",
    "    if p < r:\n",
    "        q = int((p+(r-1))/2)\n",
    "        step_count += 1\n",
    "        merge_sort(A,p,q)\n",
    "        step_count += 1\n",
    "        merge_sort(A,q+1,r)\n",
    "        step_count += 1\n",
    "        merge(A,p,q,r)\n",
    "        step_count += 1\n",
    "    return(step_count)\n",
    "\n",
    "\n",
    "merge_sort1(list1, 0, len(list1)-1)"
   ]
  },
  {
   "cell_type": "code",
   "execution_count": 23,
   "metadata": {
    "deletable": false,
    "nbgrader": {
     "checksum": "cc3f59157e795d05422e849f3e7cc03a",
     "grade": true,
     "grade_id": "cell-8a4233ab58d3d0bb",
     "locked": false,
     "points": 0,
     "schema_version": 1,
     "solution": true
    }
   },
   "outputs": [
    {
     "name": "stdout",
     "output_type": "stream",
     "text": [
      "for the list i for i in range(100*k, 0, -1), where k is  1 the number of steps is  309\n",
      "for the list i for i in range(100*k, 0, -1), where k is  2 the number of steps is  609\n",
      "for the list i for i in range(100*k, 0, -1), where k is  3 the number of steps is  909\n",
      "for the list i for i in range(100*k, 0, -1), where k is  4 the number of steps is  1209\n",
      "for the list i for i in range(100*k, 0, -1), where k is  5 the number of steps is  1509\n",
      "for the list i for i in range(100*k, 0, -1), where k is  6 the number of steps is  1809\n",
      "for the list i for i in range(100*k, 0, -1), where k is  7 the number of steps is  2109\n",
      "for the list i for i in range(100*k, 0, -1), where k is  8 the number of steps is  2409\n",
      "for the list i for i in range(100*k, 0, -1), where k is  9 the number of steps is  2709\n",
      "for the list i for i in range(100*k, 0, -1), where k is  10 the number of steps is  3009\n",
      "for the list i for i in range(100*k, 0, -1), where k is  11 the number of steps is  3309\n",
      "for the list i for i in range(100*k, 0, -1), where k is  12 the number of steps is  3609\n",
      "for the list i for i in range(100*k, 0, -1), where k is  13 the number of steps is  3909\n",
      "for the list i for i in range(100*k, 0, -1), where k is  14 the number of steps is  4209\n",
      "for the list i for i in range(100*k, 0, -1), where k is  15 the number of steps is  4509\n"
     ]
    }
   ],
   "source": [
    "for k in range(1,16):\n",
    "    list_k = []\n",
    "    for i in range(100*k, 0, -1):\n",
    "        list_k.append(i)\n",
    "    print(\"for the list i for i in range(100*k, 0, -1), where k is \", k, \"the number of steps is \", merge_sort1(list_k, 0, int(len(list_k) - 1)))\n",
    "\n",
    "    \n"
   ]
  },
  {
   "cell_type": "markdown",
   "metadata": {},
   "source": [
    "# Question 6. \n",
    "Use the code you wrote for Lesson 1.2 (i.e., selection sort, bubble sort, insertion sort). Plot the following graphs:\n",
    "* **Graph 1**: 4 lines for **the number of steps** of each of the 4 sorting algorithms (i.e., selection sort, bubble sort, insertion sort, merge sort). Which algorithm performs best? Why? \n",
    "* **Graph 2**: 4 lines for **the timing** of each of the 4 sorting algorithms (i.e., selection sort, bubble sort, insertion sort, merge sort). Which algorithm performs best? Why?\n",
    "\n",
    "Using as many cells as you wish (code cells or markdown cells alike) to complete this question.\n"
   ]
  },
  {
   "cell_type": "code",
   "execution_count": 4,
   "metadata": {
    "collapsed": true,
    "deletable": false,
    "nbgrader": {
     "checksum": "0561f29260f91795736500d62066a4c7",
     "grade": true,
     "grade_id": "cell-d09efb7c7fe55e69",
     "locked": false,
     "points": 0,
     "schema_version": 1,
     "solution": true
    }
   },
   "outputs": [],
   "source": [
    "list_control = []\n",
    "for k in range(1,5):\n",
    "    for i in range(100*k, 0, -1):\n",
    "        list_control.append(i)"
   ]
  },
  {
   "cell_type": "code",
   "execution_count": 41,
   "metadata": {
    "collapsed": true
   },
   "outputs": [],
   "source": [
    "import time\n",
    "def insertionSort(A):\n",
    "    count = 0\n",
    "    for j in range(len(A)):\n",
    "        count += 1\n",
    "        key = A[j]\n",
    "        count += 1\n",
    "        i= j-1\n",
    "        count += 1\n",
    "        while i >= 0 and A[i]>key:\n",
    "            A[i+1] = A[i]\n",
    "            count += 1\n",
    "            i -= 1\n",
    "            count += 1\n",
    "        A[i+1] = key\n",
    "        count += 1\n",
    "    return count\n",
    "\n",
    "y1 = []\n",
    "t1 = []\n",
    "\n",
    "for k in range(1,4):\n",
    "    list_k = []\n",
    "    for i in range(10*k, 0, -1):\n",
    "        list_k.append(i)\n",
    "    a = time.time()\n",
    "    y1.append(insertionSort(list_k))\n",
    "    b = time.time()\n",
    "    t1.append(b-a)\n",
    "    \n"
   ]
  },
  {
   "cell_type": "code",
   "execution_count": 42,
   "metadata": {
    "collapsed": true
   },
   "outputs": [],
   "source": [
    "def bubbleSort(A):\n",
    "    count = 0\n",
    "    for i in range(len(A)-1):\n",
    "        for j in range(len(A)-1-i):\n",
    "            if A[j] > A[j+1]:\n",
    "                l = A[j+1]\n",
    "                count += 1\n",
    "                A[j+1] = A[j]\n",
    "                count += 1\n",
    "                A[j] = l\n",
    "                count += 1\n",
    "    return count\n",
    "\n",
    "y2 = []\n",
    "t2 = []\n",
    "for k in range(1,4):\n",
    "    list_k = []\n",
    "    for i in range(10*k, 0, -1):\n",
    "        list_k.append(i)\n",
    "    a = time.time()\n",
    "    y2.append(bubbleSort(list_k))\n",
    "    b = time.time()\n",
    "    t2.append(b-a)"
   ]
  },
  {
   "cell_type": "code",
   "execution_count": 43,
   "metadata": {
    "collapsed": true
   },
   "outputs": [],
   "source": [
    "def selectionSort(A):\n",
    "    count=0\n",
    "    n = len(A)\n",
    "    count += 1\n",
    "    for i in range(0,n-1):\n",
    "        for j in range (i+1, n):\n",
    "            if A[j] < A[i]:\n",
    "                A[j], A[i] = A[i], A[j]\n",
    "                count += 1\n",
    "    return count\n",
    "\n",
    "y3 = []\n",
    "t3 = []\n",
    "\n",
    "for k in range(1,4):\n",
    "    list_k = []\n",
    "    for i in range(10*k, 0, -1):\n",
    "        list_k.append(i)\n",
    "    a = time.time()\n",
    "    y3.append(selectionSort(list_k))\n",
    "    b = time.time()\n",
    "    t3.append(b-a)"
   ]
  },
  {
   "cell_type": "code",
   "execution_count": 44,
   "metadata": {},
   "outputs": [
    {
     "name": "stdout",
     "output_type": "stream",
     "text": [
      "[39, 69, 99]\n"
     ]
    }
   ],
   "source": [
    "y4 = []\n",
    "t4 = []\n",
    "for k in range(1,4):\n",
    "    list_k = []\n",
    "    for i in range(10*k, 0, -1):\n",
    "        list_k.append(i)\n",
    "    a = time.time()\n",
    "    y4.append(merge_sort1(list_k, 0, int(len(list_k) - 1)))\n",
    "    b = time.time()\n",
    "    t4.append(b-a)\n",
    "print(y4)"
   ]
  },
  {
   "cell_type": "code",
   "execution_count": 45,
   "metadata": {},
   "outputs": [
    {
     "data": {
      "text/plain": [
       "<matplotlib.legend.Legend at 0x119f3f2e8>"
      ]
     },
     "execution_count": 45,
     "metadata": {},
     "output_type": "execute_result"
    },
    {
     "data": {
      "image/png": "[encoded data removed]",
      "text/plain": [
       "<Figure size 432x288 with 1 Axes>"
      ]
     },
     "metadata": {},
     "output_type": "display_data"
    }
   ],
   "source": [
    "import matplotlib.pyplot as plt\n",
    "x = list(range(1,4))\n",
    "\n",
    "plt.plot(x,y1,label = \"Insertion sort\")\n",
    "plt.plot(x,y2,label = \"Bubble sort\")\n",
    "plt.plot(x,y3,label = \"Selection sort\")\n",
    "plt.plot(x,y4,label = \"Merge sort\")\n",
    "plt.title(\"Efficiency of 4 sorting algorithms in terms of \\n number of steps required to sort a list\")\n",
    "plt.ylabel(\"Number of steps\")\n",
    "plt.xlabel(\"Value of k in the function that creates a list - \\n range(100*k, 0, -1)\")\n",
    "plt.legend(loc=\"upper left\")\n"
   ]
  },
  {
   "cell_type": "code",
   "execution_count": 46,
   "metadata": {},
   "outputs": [
    {
     "data": {
      "text/plain": [
       "<matplotlib.legend.Legend at 0x11a050d68>"
      ]
     },
     "execution_count": 46,
     "metadata": {},
     "output_type": "execute_result"
    },
    {
     "data": {
      "image/png": "[encoded data removed]",
      "text/plain": [
       "<Figure size 432x288 with 1 Axes>"
      ]
     },
     "metadata": {},
     "output_type": "display_data"
    }
   ],
   "source": [
    "import matplotlib.pyplot as plt\n",
    "x = list(range(1,4))\n",
    "\n",
    "plt.plot(x,t1,label = \"Insertion sort\")\n",
    "plt.plot(x,t2,label = \"Bubble sort\")\n",
    "plt.plot(x,t3,label = \"Selection sort\")\n",
    "plt.plot(x,t4,label = \"Merge sort\")\n",
    "plt.title(\"Efficiency of 4 sorting algorithms in terms of \\n time required to sort a list\")\n",
    "plt.ylabel(\"Time (s)\")\n",
    "plt.xlabel(\"Value of k in the function that creates a list - \\n range(100*k, 0, -1)\")\n",
    "plt.legend(loc=\"upper left\")"
   ]
  },
  {
   "cell_type": "code",
   "execution_count": null,
   "metadata": {
    "collapsed": true
   },
   "outputs": [],
   "source": []
  }
 ],
 "metadata": {
  "kernelspec": {
   "display_name": "Python 3",
   "language": "python",
   "name": "python3"
  },
  "language_info": {
   "codemirror_mode": {
    "name": "ipython",
    "version": 3
   },
   "file_extension": ".py",
   "mimetype": "text/x-python",
   "name": "python",
   "nbconvert_exporter": "python",
   "pygments_lexer": "ipython3",
   "version": "3.6.3"
  }
 },
 "nbformat": 4,
 "nbformat_minor": 2
}
