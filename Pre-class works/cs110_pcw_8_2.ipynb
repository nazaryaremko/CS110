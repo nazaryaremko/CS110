{
 "cells": [
  {
   "cell_type": "markdown",
   "metadata": {},
   "source": [
    "Before you turn this problem in, make sure everything runs as expected. First, **restart the kernel** (in the menubar, select Kernel$\\rightarrow$Restart) and then **run all cells** (in the menubar, select Cell$\\rightarrow$Run All).\n",
    "\n",
    "Make sure you fill in any place that says `YOUR CODE HERE` or \"YOUR ANSWER HERE\", as well as your name and collaborators below:"
   ]
  },
  {
   "cell_type": "code",
   "execution_count": null,
   "metadata": {
    "collapsed": true
   },
   "outputs": [],
   "source": [
    "NAME = \"Nazar Yaremko\"\n",
    "COLLABORATORS = \"\""
   ]
  },
  {
   "cell_type": "markdown",
   "metadata": {},
   "source": [
    "---"
   ]
  },
  {
   "cell_type": "markdown",
   "metadata": {
    "deletable": false,
    "editable": false,
    "nbgrader": {
     "checksum": "c87c76aab5414c691aa63dd316a3aad4",
     "grade": false,
     "grade_id": "cell-856b478addb28fe9",
     "locked": true,
     "schema_version": 1,
     "solution": false
    }
   },
   "source": [
    "# CS110 Pre-class Work 8.2\n",
    "\n",
    "# Question 1. (Exercise 12.2-1, Cormen et al.)\n",
    "\n",
    "Suppose that we have numbers between 1 and 1000 in a binary search tree, and we want to search for the number 363. Which of the following sequences could not be the sequence of nodes examined?\n",
    "\n",
    "a. 2, 252, 401, 398, 330, 344, 397, 363.\n",
    "\n",
    "b. 924, 220, 911, 244, 898, 258, 362, 363.\n",
    "\n",
    "c. 925, 202, 911, 240, 912, 245, 363.\n",
    "\n",
    "d. 2, 399, 387, 219, 266, 382, 381, 278, 363.\n",
    "\n",
    "e. 935, 278, 347, 621, 299, 392, 358, 363.\n"
   ]
  },
  {
   "cell_type": "markdown",
   "metadata": {},
   "source": [
    "c and e. C because we have a node 911 after which we move to the left subtree because 240 is smaller and yet somehow we still encounter 912 in this left subtree which is impossible given that all elements in the left subtree have to be smaller than the node. E because when we encounter node 347, we move to the right subtree after it because 621 is bigger, yet we encounter 299 which is impossible because it is smaller than 347."
   ]
  },
  {
   "cell_type": "markdown",
   "metadata": {
    "deletable": false,
    "nbgrader": {
     "checksum": "caad0ddbf7180e6e9f1cf54ef809d5a8",
     "grade": true,
     "grade_id": "cell-4ba31a88562b2669",
     "locked": false,
     "points": 0,
     "schema_version": 1,
     "solution": true
    }
   },
   "source": [
    "YOUR ANSWER HERE"
   ]
  },
  {
   "cell_type": "markdown",
   "metadata": {
    "deletable": false,
    "editable": false,
    "nbgrader": {
     "checksum": "2608634a994745e8cabbc68e04197aeb",
     "grade": false,
     "grade_id": "cell-e2fe6a81a328e94e",
     "locked": true,
     "schema_version": 1,
     "solution": false
    }
   },
   "source": [
    "## Question 2. Comparing complexities\n",
    "Complete the following table with the average vs worst case complexities for the data structures in each row.\n",
    "\n",
    "You should copy the following table and paste and edit it in the cell below. \n",
    "\n",
    "Operations | BST | Hash table using open addressing | Min heap\n",
    "--- | --- | --- | ---\n",
    "Search |  |  |\n",
    "Find max |  |  |\n",
    "Find min |  |  |\n",
    "Max extraction  |  |  |\n",
    "Min extraction |  |  |\n",
    "Find successor |  |  |\n",
    "Find predecessor |  |  |\n",
    "Insert |  |  |\n",
    "Delete |  |  |\n",
    "\n"
   ]
  },
  {
   "cell_type": "markdown",
   "metadata": {},
   "source": [
    "WORST TIME COMPLEXITY\n",
    "\n",
    "Operations | BST | Hash table using open addressing | Min heap\n",
    "--- | --- | --- | ---\n",
    "Search | O(n) | O(1) |\n",
    "Find max | O(n) | O(n) |O(n)\n",
    "Find min | O(n) | O(n)| O(1)\n",
    "Max extraction  | O(n) | O(1) |\n",
    "Min extraction | O(n) | O(1) |\n",
    "Find successor | O(logn) |  |\n",
    "Find predecessor | O(logn) |  |\n",
    "Insert | O(n) | O(1) |O(logn)\n",
    "Delete | O(n) | O(1) |O(logn)\n"
   ]
  },
  {
   "cell_type": "markdown",
   "metadata": {
    "deletable": false,
    "nbgrader": {
     "checksum": "b333dea7231946830dc83e0374b46384",
     "grade": true,
     "grade_id": "cell-103e7647a8a92a95",
     "locked": false,
     "points": 0,
     "schema_version": 1,
     "solution": true
    }
   },
   "source": [
    "AVEARGE TIME COMPLEXITY\n",
    "\n",
    "Operations | BST | Hash table using open addressing | Min heap\n",
    "--- | --- | --- | ---\n",
    "Search | O(logn) | O(1) | \n",
    "Find max | O(logn) | O(n) | O(n)\n",
    "Find min | O(logn) | O(n) | O(1)\n",
    "Max extraction  | O(logn) | O(1) |\n",
    "Min extraction | O(logn) | O(1) |\n",
    "Find successor | O(logn) |  |\n",
    "Find predecessor | O(logn) |  |\n",
    "Insert | O(logn) | O(1) | O(logn)\n",
    "Delete |O(logn) | O(1) | O(logn)"
   ]
  },
  {
   "cell_type": "markdown",
   "metadata": {},
   "source": [
    "The rest of them I was not sure, so I decided not to guess"
   ]
  },
  {
   "cell_type": "markdown",
   "metadata": {
    "deletable": false,
    "editable": false,
    "nbgrader": {
     "checksum": "350918858ed77bb73434c159714237a6",
     "grade": false,
     "grade_id": "cell-f0b8945e898ae4eb",
     "locked": true,
     "schema_version": 1,
     "solution": false
    }
   },
   "source": [
    "## Question 3. Programming a recursive BST\n",
    "The code given in the cell below, write python code for the corresponding functions:\n",
    "\n",
    "* function `search(self, value)`: searches a *non-empty* BST rooted at the node for a node with `data=value`, returns the node if found, None otherwise\n",
    "* function `delete(self, value)`: if a node with data = value is present in the tree rooted at Node, deletes that node and returns the root.\n",
    "* function `inorder(self)`: returns a list of all data in the tree rooted at root produced using an in order traversal. When correctly implemented on a BST, the produced list will be sorted in ascending order.\n",
    "\n",
    "You may find it useful to define additional helper functions.\n"
   ]
  },
  {
   "cell_type": "code",
   "execution_count": 1,
   "metadata": {
    "collapsed": true,
    "deletable": false,
    "nbgrader": {
     "checksum": "d30a8a11c0dc7730c76d82543f16814f",
     "grade": false,
     "grade_id": "cell-699ae21855637a38",
     "locked": false,
     "schema_version": 1,
     "solution": true
    }
   },
   "outputs": [],
   "source": [
    "## Binary Search Tree\n",
    "##\n",
    "class Node:\n",
    "    #this function is important as it initializes thee object \n",
    "    #we create a tree with a certain node and no children\n",
    "    def __init__(self, val):\n",
    "        self.l_child = None\n",
    "        self.r_child = None\n",
    "        self.parent = None\n",
    "        self.data = val\n",
    "\n",
    "    def insert(self, node):\n",
    "        #this function inserts objects into a binary tree\n",
    "        \"\"\"inserts a node into a *non-empty* tree rooted at the node, returns\n",
    "        the root\"\"\"\n",
    "        #if the node is bigger than the key\n",
    "        if self.data > node.data:\n",
    "            #and there is no left child\n",
    "            if self.l_child is None:\n",
    "                #we insert they key as the left child\n",
    "                self.l_child = node\n",
    "                node.parent = self\n",
    "                \n",
    "            else:\n",
    "                #or if there is a left child, we reiterate the previoussteps\n",
    "                #this is kind of a recursive call\n",
    "                self.l_child.insert(node)\n",
    "        else:\n",
    "            #here we proceed if the key is larger than the root\n",
    "            #the operations are the same as in the previous case\n",
    "            if self.r_child is None:\n",
    "                self.r_child = node\n",
    "                node.parent = self\n",
    "            else:\n",
    "                self.r_child.insert(node)\n",
    "        return self\n",
    "    \n",
    "    #here we travel down the left child until there is no children\n",
    "    #when we reach the leaf, we know it is the minimum value\n",
    "    def minimum(self):\n",
    "        node = self\n",
    "        while node.l_child != None:\n",
    "            node = node.l_child\n",
    "        return node     \n",
    "    \n",
    "    #here we return the value of the node we want to search\n",
    "    def search_data(self, value):\n",
    "        \"\"\"searches a *non-empty* tree rooted at the node for a node with\n",
    "        data = value, returns the value if found, None otherwise\"\"\"\n",
    "        node = self.search(value)\n",
    "        if node:\n",
    "            return node.data\n",
    "        else:\n",
    "            return node\n",
    "        \n",
    "    \n",
    "    def to_string(self): \n",
    "        print('self.data', self.data)\n",
    "        root=self\n",
    "        if not root: \n",
    "            return 'Nil'\n",
    "        else: \n",
    "            r = root.r_child.to_string() if root.r_child else 'Nil'\n",
    "            l = root.l_child.to_string() if root.l_child else 'Nil'\n",
    "        return 'Node(' + str(root.data) + ' L: ' + l + ' R: ' + r + ')'\n",
    "    \n",
    "    #this function is called in the search_data function\n",
    "    def search(self, value):\n",
    "        node = self\n",
    "        #the basic function, if we are searching for the root\n",
    "        if node == None or value == node.data:\n",
    "            return node\n",
    "        #if we are searching for a node that is not a root\n",
    "        #we will go down the left subtree if the value is smaller than the value of the root\n",
    "        elif value < node.data:\n",
    "            return node.l_child.search(value)\n",
    "        else:\n",
    "            #or down the right subtree if the value is bigger\n",
    "            return node.r_child.search(value)\n",
    "        \n",
    "    #Taken from the pseudocode in the book\n",
    "    def inorder(self):\n",
    "        #if there is a root\n",
    "        if self != None:\n",
    "            #we go down the left subtree and print the values\n",
    "            self.l_child.inorder()\n",
    "            print(self.data)\n",
    "            #and than the right one (printing the left children first)\n",
    "            self.r_child.inorder()\n",
    "    \n",
    "    #this function is needed for the delete function \n",
    "    def transplant(self, u, v):\n",
    "        node = self\n",
    "        #if u's parent is none\n",
    "        if u.parent == None:\n",
    "            #we transplant v to be the root\n",
    "            node = v\n",
    "        #if u is the lft child\n",
    "        elif u == u.parent.l_child:\n",
    "            #then v becomes the left child\n",
    "            u.parent.l_child = v\n",
    "        else:\n",
    "            #othervise v becomes the right child\n",
    "            u.parent.r_child = v\n",
    "        if v != None:\n",
    "            #if v is an empty node\n",
    "            #then the parent of u becomes the parent of v\n",
    "            v.parent = u.parent\n",
    "        return node\n",
    "    \n",
    "    def delete(self, value):\n",
    "        #looking up the valuee wee want to delete\n",
    "        x = self.search(value)\n",
    "        #if x is not empy and doesn;t have a left child\n",
    "        if x != None and x.l_child == None:\n",
    "            #we transplant the right child on the x's place\n",
    "            self = self.transplant(x, x.r_child)\n",
    "        #if x is not empty and it doesn't have a right child\n",
    "        elif x!= None and x.r_child == None:\n",
    "            #we transplant the left child on the x's place\n",
    "            self = self.transplant(x, x.l_child)\n",
    "        else:\n",
    "            #finding x's successor\n",
    "            y = minimum(x.r_child)\n",
    "            #if it's not x's parent\n",
    "            if y.parent != x:\n",
    "                #we transplant the right child of y to be the root\n",
    "                self = self.transplant(y,y.r_child)\n",
    "                #y'sright child becomes x's right child\n",
    "                y.r_child = x.right\n",
    "                #this line confuses me though = isn't y.r_child.parent just y\n",
    "                y.r_child.parent = y\n",
    "            self = self.transplant(x,y)\n",
    "            y.l_child = x.l_child\n",
    "            y.l_child.parent = y\n",
    "        return self"
   ]
  },
  {
   "cell_type": "markdown",
   "metadata": {
    "deletable": false,
    "editable": false,
    "nbgrader": {
     "checksum": "8b126b45ed170734c6d243dbde6ec892",
     "grade": false,
     "grade_id": "cell-6e99c15ebbccbcff",
     "locked": true,
     "schema_version": 1,
     "solution": false
    }
   },
   "source": [
    "## Question 4. Validating the BST python code\n",
    "\n",
    "### Question 4a.\n",
    "\n",
    "It is good practice to make the necessary tests in your code to ensure it produces the intended outputs. In the cells below, implement slow, but simple:\n",
    "* inserts,\n",
    "* searches,\n",
    "* deletes.\n"
   ]
  },
  {
   "cell_type": "markdown",
   "metadata": {},
   "source": [
    "So this task confused me A LOT. I did not understand whether these functions were supposed to be performed on the normal lists or whether we were supposed to build a tree. The former case did not make much sense to me because for example deletion of a value can be done by just using remove function, so why would we create en entire new function. Hence, I did the later.\n"
   ]
  },
  {
   "cell_type": "code",
   "execution_count": 2,
   "metadata": {
    "collapsed": true,
    "deletable": false,
    "nbgrader": {
     "checksum": "2e246944222ceb6db976ba1af84f791a",
     "grade": false,
     "grade_id": "cell-8ffe02954ab45b77",
     "locked": false,
     "schema_version": 1,
     "solution": true
    }
   },
   "outputs": [],
   "source": [
    "#in the next three tasks I built a tree using the values from the list\n",
    "#and then I called the functions that I created in the previous task\n",
    "def list_insert(lst, value):\n",
    "    \"\"\"inserts value into lst in sorted order\"\"\"\n",
    "    tree = Node(lst[0])\n",
    "    for i in range(1, len(lst)):\n",
    "        tree.insert(Node(lst[i]))\n",
    "    \n",
    "    tree.insert(Node(value))\n",
    "    \n",
    "list_insert([1,3,5,6,7,8], 4)\n",
    "\n"
   ]
  },
  {
   "cell_type": "code",
   "execution_count": 126,
   "metadata": {
    "collapsed": true,
    "deletable": false,
    "nbgrader": {
     "checksum": "99cadda3119181ec5d6c967d7ea15090",
     "grade": false,
     "grade_id": "cell-0e246c5c19ef7b80",
     "locked": false,
     "schema_version": 1,
     "solution": true
    }
   },
   "outputs": [],
   "source": [
    "def list_delete(lst, value):\n",
    "    tree = Node(lst[0])\n",
    "    for i in range(1, len(lst)):\n",
    "        tree.insert(Node(lst[i]))\n",
    "        \n",
    "    tree.delete(value)\n",
    "\n",
    "list_delete([1,2,4,6,8], 4)"
   ]
  },
  {
   "cell_type": "code",
   "execution_count": 127,
   "metadata": {
    "collapsed": true,
    "deletable": false,
    "nbgrader": {
     "checksum": "024018f03e113eced89d464c96d522f6",
     "grade": false,
     "grade_id": "cell-f6b55b9878c6fdf1",
     "locked": false,
     "schema_version": 1,
     "solution": true
    }
   },
   "outputs": [],
   "source": [
    "def list_search(lst, value): \n",
    "    \"\"\" searches lst for value and returns value if present, None if it is not present\"\"\"\n",
    "    tree = Node(lst[0])\n",
    "    for i in range(1, len(lst)):\n",
    "        tree.insert(Node(lst[i]))\n",
    "    \n",
    "    tree.search(value)\n",
    "    \n",
    "list_search([1,2,4,6,8], 4)"
   ]
  },
  {
   "cell_type": "markdown",
   "metadata": {
    "deletable": false,
    "editable": false,
    "nbgrader": {
     "checksum": "4b67b5285b803538fc34c696acb4fce3",
     "grade": false,
     "grade_id": "cell-50a5730f995c1ec5",
     "locked": true,
     "schema_version": 1,
     "solution": false
    }
   },
   "source": [
    "### Question 4b. \n",
    "Run the testing code provided in the cell below to generate a sequence of random inserts, followed by a sequence of random deletes, and finally followed by a sequence of random searches. Apply this sequence to both your BST implementation and the sorted list implementation. Do the final results both match? Does this mean your code is free of bugs? Provide your answer to these questions in the cell below the Python-code cell."
   ]
  },
  {
   "cell_type": "code",
   "execution_count": 128,
   "metadata": {},
   "outputs": [
    {
     "name": "stdout",
     "output_type": "stream",
     "text": [
      "###################\n",
      "Inserting the following node:  2\n",
      "self.data 2\n",
      "Node(2 L: Nil R: Nil)\n",
      "###################\n",
      "Inserting the following node:  3\n",
      "self.data 2\n",
      "self.data 3\n",
      "Node(2 L: Nil R: Node(3 L: Nil R: Nil))\n",
      "###################\n",
      "Inserting the following node:  5\n",
      "self.data 2\n",
      "self.data 3\n",
      "self.data 5\n",
      "Node(2 L: Nil R: Node(3 L: Nil R: Node(5 L: Nil R: Nil)))\n",
      "###################\n",
      "Inserting the following node:  1\n",
      "self.data 2\n",
      "self.data 3\n",
      "self.data 5\n",
      "self.data 1\n",
      "Node(2 L: Node(1 L: Nil R: Nil) R: Node(3 L: Nil R: Node(5 L: Nil R: Nil)))\n"
     ]
    }
   ],
   "source": [
    "bst = None # bst is a misnormer, this variable contains the Node that is the root of the BST of interest\n",
    "lst = []\n",
    "\n",
    "my_Nodes = [2, 3, 5, 1]\n",
    "for x in [Node(_) for _ in my_Nodes]:\n",
    "    print(\"###################\")\n",
    "    print('Inserting the following node: ', x.data)\n",
    "    if not bst:\n",
    "        bst = x\n",
    "    else:\n",
    "        bst = bst.insert(x)\n",
    "    print(bst.to_string())"
   ]
  },
  {
   "cell_type": "code",
   "execution_count": 129,
   "metadata": {
    "deletable": false,
    "editable": false,
    "nbgrader": {
     "checksum": "813d6c322f5d9944bdff40f84aa5f4e1",
     "grade": true,
     "grade_id": "cell-ebddd4da79a3da28",
     "locked": true,
     "points": 0,
     "schema_version": 1,
     "solution": false
    }
   },
   "outputs": [
    {
     "name": "stdout",
     "output_type": "stream",
     "text": [
      "Inserting the following node:  5\n",
      "Inserting the following node:  2\n",
      "Inserting the following node:  5\n",
      "Inserting the following node:  0\n",
      "Inserting the following node:  8\n",
      "Inserting the following node:  8\n",
      "Inserting the following node:  7\n",
      "Inserting the following node:  8\n",
      "Inserting the following node:  0\n",
      "Inserting the following node:  9\n",
      "self.data 2\n",
      "self.data 3\n",
      "self.data 5\n",
      "self.data 5\n",
      "self.data 5\n",
      "self.data 8\n",
      "self.data 8\n",
      "self.data 8\n",
      "self.data 9\n",
      "self.data 7\n",
      "self.data 2\n",
      "self.data 1\n",
      "self.data 0\n",
      "self.data 0\n",
      "Node(2 L: Node(1 L: Node(0 L: Nil R: Node(0 L: Nil R: Nil)) R: Nil) R: Node(3 L: Node(2 L: Nil R: Nil) R: Node(5 L: Nil R: Node(5 L: Nil R: Node(5 L: Nil R: Node(8 L: Node(7 L: Nil R: Nil) R: Node(8 L: Nil R: Node(8 L: Nil R: Node(9 L: Nil R: Nil)))))))))\n"
     ]
    },
    {
     "ename": "AttributeError",
     "evalue": "'NoneType' object has no attribute 'inorder'",
     "output_type": "error",
     "traceback": [
      "\u001b[0;31m---------------------------------------------------------------------------\u001b[0m",
      "\u001b[0;31mAttributeError\u001b[0m                            Traceback (most recent call last)",
      "\u001b[0;32m<ipython-input-129-93746ffab314>\u001b[0m in \u001b[0;36m<module>\u001b[0;34m()\u001b[0m\n\u001b[1;32m     49\u001b[0m         \u001b[0mbst\u001b[0m\u001b[0;34m.\u001b[0m\u001b[0minsert\u001b[0m\u001b[0;34m(\u001b[0m\u001b[0mx\u001b[0m\u001b[0;34m)\u001b[0m\u001b[0;34m\u001b[0m\u001b[0m\n\u001b[1;32m     50\u001b[0m \u001b[0mprint\u001b[0m\u001b[0;34m(\u001b[0m\u001b[0mbst\u001b[0m\u001b[0;34m.\u001b[0m\u001b[0mto_string\u001b[0m\u001b[0;34m(\u001b[0m\u001b[0;34m)\u001b[0m\u001b[0;34m)\u001b[0m\u001b[0;34m\u001b[0m\u001b[0m\n\u001b[0;32m---> 51\u001b[0;31m \u001b[0mprint\u001b[0m\u001b[0;34m(\u001b[0m\u001b[0;34m'In order traversal: '\u001b[0m\u001b[0;34m,\u001b[0m \u001b[0mbst\u001b[0m\u001b[0;34m.\u001b[0m\u001b[0minorder\u001b[0m\u001b[0;34m(\u001b[0m\u001b[0;34m)\u001b[0m\u001b[0;34m)\u001b[0m\u001b[0;34m\u001b[0m\u001b[0m\n\u001b[0m\u001b[1;32m     52\u001b[0m \u001b[0;34m\u001b[0m\u001b[0m\n\u001b[1;32m     53\u001b[0m \u001b[0;32mfor\u001b[0m \u001b[0mx\u001b[0m \u001b[0;32min\u001b[0m \u001b[0;34m[\u001b[0m\u001b[0mrandom\u001b[0m\u001b[0;34m.\u001b[0m\u001b[0mrandint\u001b[0m\u001b[0;34m(\u001b[0m\u001b[0;36m0\u001b[0m\u001b[0;34m,\u001b[0m\u001b[0;36m10\u001b[0m\u001b[0;34m)\u001b[0m \u001b[0;32mfor\u001b[0m \u001b[0m_\u001b[0m \u001b[0;32min\u001b[0m \u001b[0mrange\u001b[0m\u001b[0;34m(\u001b[0m\u001b[0;36m4\u001b[0m\u001b[0;34m)\u001b[0m\u001b[0;34m]\u001b[0m\u001b[0;34m:\u001b[0m\u001b[0;34m\u001b[0m\u001b[0m\n",
      "\u001b[0;32m<ipython-input-124-67d63cea5f9d>\u001b[0m in \u001b[0;36minorder\u001b[0;34m(self)\u001b[0m\n\u001b[1;32m     84\u001b[0m         \u001b[0;32mif\u001b[0m \u001b[0mself\u001b[0m \u001b[0;34m!=\u001b[0m \u001b[0;32mNone\u001b[0m\u001b[0;34m:\u001b[0m\u001b[0;34m\u001b[0m\u001b[0m\n\u001b[1;32m     85\u001b[0m             \u001b[0;31m#we go down the left subtree and print the values\u001b[0m\u001b[0;34m\u001b[0m\u001b[0;34m\u001b[0m\u001b[0m\n\u001b[0;32m---> 86\u001b[0;31m             \u001b[0mself\u001b[0m\u001b[0;34m.\u001b[0m\u001b[0ml_child\u001b[0m\u001b[0;34m.\u001b[0m\u001b[0minorder\u001b[0m\u001b[0;34m(\u001b[0m\u001b[0;34m)\u001b[0m\u001b[0;34m\u001b[0m\u001b[0m\n\u001b[0m\u001b[1;32m     87\u001b[0m             \u001b[0mprint\u001b[0m\u001b[0;34m(\u001b[0m\u001b[0mself\u001b[0m\u001b[0;34m.\u001b[0m\u001b[0mdata\u001b[0m\u001b[0;34m)\u001b[0m\u001b[0;34m\u001b[0m\u001b[0m\n\u001b[1;32m     88\u001b[0m             \u001b[0;31m#and than the right one (printing the left children first)\u001b[0m\u001b[0;34m\u001b[0m\u001b[0;34m\u001b[0m\u001b[0m\n",
      "\u001b[0;32m<ipython-input-124-67d63cea5f9d>\u001b[0m in \u001b[0;36minorder\u001b[0;34m(self)\u001b[0m\n\u001b[1;32m     84\u001b[0m         \u001b[0;32mif\u001b[0m \u001b[0mself\u001b[0m \u001b[0;34m!=\u001b[0m \u001b[0;32mNone\u001b[0m\u001b[0;34m:\u001b[0m\u001b[0;34m\u001b[0m\u001b[0m\n\u001b[1;32m     85\u001b[0m             \u001b[0;31m#we go down the left subtree and print the values\u001b[0m\u001b[0;34m\u001b[0m\u001b[0;34m\u001b[0m\u001b[0m\n\u001b[0;32m---> 86\u001b[0;31m             \u001b[0mself\u001b[0m\u001b[0;34m.\u001b[0m\u001b[0ml_child\u001b[0m\u001b[0;34m.\u001b[0m\u001b[0minorder\u001b[0m\u001b[0;34m(\u001b[0m\u001b[0;34m)\u001b[0m\u001b[0;34m\u001b[0m\u001b[0m\n\u001b[0m\u001b[1;32m     87\u001b[0m             \u001b[0mprint\u001b[0m\u001b[0;34m(\u001b[0m\u001b[0mself\u001b[0m\u001b[0;34m.\u001b[0m\u001b[0mdata\u001b[0m\u001b[0;34m)\u001b[0m\u001b[0;34m\u001b[0m\u001b[0m\n\u001b[1;32m     88\u001b[0m             \u001b[0;31m#and than the right one (printing the left children first)\u001b[0m\u001b[0;34m\u001b[0m\u001b[0;34m\u001b[0m\u001b[0m\n",
      "\u001b[0;32m<ipython-input-124-67d63cea5f9d>\u001b[0m in \u001b[0;36minorder\u001b[0;34m(self)\u001b[0m\n\u001b[1;32m     84\u001b[0m         \u001b[0;32mif\u001b[0m \u001b[0mself\u001b[0m \u001b[0;34m!=\u001b[0m \u001b[0;32mNone\u001b[0m\u001b[0;34m:\u001b[0m\u001b[0;34m\u001b[0m\u001b[0m\n\u001b[1;32m     85\u001b[0m             \u001b[0;31m#we go down the left subtree and print the values\u001b[0m\u001b[0;34m\u001b[0m\u001b[0;34m\u001b[0m\u001b[0m\n\u001b[0;32m---> 86\u001b[0;31m             \u001b[0mself\u001b[0m\u001b[0;34m.\u001b[0m\u001b[0ml_child\u001b[0m\u001b[0;34m.\u001b[0m\u001b[0minorder\u001b[0m\u001b[0;34m(\u001b[0m\u001b[0;34m)\u001b[0m\u001b[0;34m\u001b[0m\u001b[0m\n\u001b[0m\u001b[1;32m     87\u001b[0m             \u001b[0mprint\u001b[0m\u001b[0;34m(\u001b[0m\u001b[0mself\u001b[0m\u001b[0;34m.\u001b[0m\u001b[0mdata\u001b[0m\u001b[0;34m)\u001b[0m\u001b[0;34m\u001b[0m\u001b[0m\n\u001b[1;32m     88\u001b[0m             \u001b[0;31m#and than the right one (printing the left children first)\u001b[0m\u001b[0;34m\u001b[0m\u001b[0;34m\u001b[0m\u001b[0m\n",
      "\u001b[0;31mAttributeError\u001b[0m: 'NoneType' object has no attribute 'inorder'"
     ]
    }
   ],
   "source": [
    "### Testing Code\n",
    "###\n",
    "\n",
    "import random\n",
    "\n",
    "# bst = None # bst is a misnormer, this variable contains the Node that is the root of the BST of interest\n",
    "# lst = []\n",
    "\n",
    "# # sampling with replacement\n",
    "# for x in [Node(random.randint(0,10)) for _ in range(10)]:\n",
    "#     print('Inserting the following node: ', x.data)\n",
    "#     if not bst:\n",
    "#         bst = x\n",
    "#     else:\n",
    "#         bst.insert(x)\n",
    "#     list_insert(lst, x.data)\n",
    "\n",
    "# print('In order traversal: ', bst.inorder())\n",
    "\n",
    "# for x in [random.randint(0,10) for _ in range(4)]:\n",
    "#     print('Look for the following node: ', x)\n",
    "#     if bst.search_data(x):\n",
    "#         print(' Node exists, hence removing the Node...')\n",
    "#         bst = bst.delete(x)\n",
    "#     else:\n",
    "#         print(' Node does not exist and cannot be removed!')\n",
    "#     if list_search(lst, x):\n",
    "#         print(' Element exists in list, hence removing it...!')\n",
    "#         list_delete(lst,x)\n",
    "#     else:\n",
    "#         print(' Element does not exist in list, and cannot be removed!')\n",
    "\n",
    "# print('In order traversal of final BST: ', bst.inorder())\n",
    "# print('Final list: ', lst)\n",
    "\n",
    "\n",
    "\n",
    "\n",
    "\n",
    "# variable contains the Node that is the root of the BST of interest\n",
    "lst = []\n",
    "\n",
    "# sampling with replacement\n",
    "for x in [Node(random.randint(0,10)) for _ in range(10)]:\n",
    "    print('Inserting the following node: ', x.data)\n",
    "    if not bst:\n",
    "        bst = x\n",
    "    else:\n",
    "        bst.insert(x)\n",
    "print(bst.to_string())\n",
    "print('In order traversal: ', bst.inorder())\n",
    "\n",
    "for x in [random.randint(0,10) for _ in range(4)]:\n",
    "    print('Look for the following node: ', x)\n",
    "    if bst.search_data(x):\n",
    "        print(' Node exists, hence removing the Node...')\n",
    "        bst = bst.delete(x)\n",
    "    else:\n",
    "        print(' Node does not exist and cannot be removed!')\n",
    "print(bst.to_string())\n",
    "\n",
    "\n",
    "print('In order traversal of final BST: ', bst.inorder())\n",
    "print('Final list: ', lst)\n",
    "\n"
   ]
  },
  {
   "cell_type": "markdown",
   "metadata": {
    "deletable": false,
    "nbgrader": {
     "checksum": "11743c20bdd473ed59d8b90c514f6176",
     "grade": true,
     "grade_id": "cell-1af64135f3359698",
     "locked": false,
     "points": 0,
     "schema_version": 1,
     "solution": true
    }
   },
   "source": [
    "YOUR ANSWER HERE"
   ]
  }
 ],
 "metadata": {
  "kernelspec": {
   "display_name": "Python 3",
   "language": "python",
   "name": "python3"
  },
  "language_info": {
   "codemirror_mode": {
    "name": "ipython",
    "version": 3
   },
   "file_extension": ".py",
   "mimetype": "text/x-python",
   "name": "python",
   "nbconvert_exporter": "python",
   "pygments_lexer": "ipython3",
   "version": "3.6.3"
  }
 },
 "nbformat": 4,
 "nbformat_minor": 2
}
