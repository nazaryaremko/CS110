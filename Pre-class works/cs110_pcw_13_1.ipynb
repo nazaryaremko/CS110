{
 "cells": [
  {
   "cell_type": "markdown",
   "metadata": {},
   "source": [
    "Before you turn this problem in, make sure everything runs as expected. First, **restart the kernel** (in the menubar, select Kernel$\\rightarrow$Restart) and then **run all cells** (in the menubar, select Cell$\\rightarrow$Run All).\n",
    "\n",
    "Make sure you fill in any place that says `YOUR CODE HERE` or \"YOUR ANSWER HERE\", as well as your name and collaborators below:"
   ]
  },
  {
   "cell_type": "code",
   "execution_count": null,
   "metadata": {
    "collapsed": true
   },
   "outputs": [],
   "source": [
    "NAME = \"Nazar Yaremko\"\n",
    "COLLABORATORS = \"\""
   ]
  },
  {
   "cell_type": "markdown",
   "metadata": {},
   "source": [
    "---"
   ]
  },
  {
   "cell_type": "markdown",
   "metadata": {
    "deletable": false,
    "editable": false,
    "nbgrader": {
     "checksum": "79a6cbf153cc50422f9a0065ccadacb0",
     "grade": false,
     "grade_id": "cell-6988e414270fd484",
     "locked": true,
     "schema_version": 1,
     "solution": false
    }
   },
   "source": [
    "# CS110 Pre-class Work 13.1\n",
    "\n",
    "## Question 1.\n",
    "\n",
    "Complete the following functions, following the algorithms in Cormen et al."
   ]
  },
  {
   "cell_type": "code",
   "execution_count": null,
   "metadata": {
    "collapsed": true,
    "deletable": false,
    "nbgrader": {
     "checksum": "41c10c1f28d75445b9f4bac2f9c8d2ae",
     "grade": false,
     "grade_id": "cell-542b2dce56293aef",
     "locked": false,
     "schema_version": 1,
     "solution": true
    }
   },
   "outputs": [],
   "source": [
    "def lcs_length(x, y):\n",
    "    \"\"\"\n",
    "    Computes the length of an LCS of strings x and y.\n",
    "    \n",
    "    Inputs:\n",
    "    - x, y: strings\n",
    "    \n",
    "    Outputs:\n",
    "    - c: a list of lists of ints OR a numpy array. c[i,j] contains the \n",
    "    length of a LCS of x[:i] and y[:j]\n",
    "    - b: a list of lists of strings OR a numpy array, containing the information\n",
    "    used for LCS reconstruction (See Cormen et al.) Use \"N\" (North), \"NW\" \n",
    "    (North West), and \"W\" (West) that correspond to the directions of the arrows \n",
    "    used in Cormen et al.\n",
    "    \"\"\"\n",
    "    # YOUR CODE HERE\n",
    "    raise NotImplementedError()"
   ]
  },
  {
   "cell_type": "code",
   "execution_count": 89,
   "metadata": {},
   "outputs": [
    {
     "data": {
      "text/plain": [
       "(array([[b'd', b'l', b'l', b'l', b'l', b'l', b'l', b'l', b'l', b'l'],\n",
       "        [b'u', b'u', b'u', b'u', b'u', b'u', b'u', b'u', b'u', b'u'],\n",
       "        [b'u', b'u', b'u', b'u', b'u', b'u', b'u', b'u', b'u', b'd'],\n",
       "        [b'd', b'u', b'u', b'u', b'u', b'u', b'u', b'u', b'u', b'u'],\n",
       "        [b'u', b'u', b'u', b'u', b'u', b'u', b'd', b'l', b'l', b'u'],\n",
       "        [b'u', b'u', b'u', b'u', b'u', b'u', b'u', b'u', b'u', b'u']],\n",
       "       dtype='|S1'), array([[0., 0., 0., 0., 0., 0., 0., 0., 0., 0., 0.],\n",
       "        [0., 1., 1., 1., 1., 1., 1., 1., 1., 1., 1.],\n",
       "        [0., 1., 1., 1., 1., 1., 1., 1., 1., 1., 1.],\n",
       "        [0., 1., 1., 1., 1., 1., 1., 1., 1., 1., 2.],\n",
       "        [0., 1., 1., 1., 1., 1., 1., 1., 1., 1., 2.],\n",
       "        [0., 1., 1., 1., 1., 1., 1., 2., 2., 2., 2.],\n",
       "        [0., 1., 1., 1., 1., 1., 1., 2., 2., 2., 2.]]))"
      ]
     },
     "execution_count": 89,
     "metadata": {},
     "output_type": "execute_result"
    }
   ],
   "source": [
    "def lcs_length(x, y):\n",
    "    #assigning sizes of our tables\n",
    "    m = len(x)\n",
    "    n = len(y)\n",
    "    #creating the tables\n",
    "    c = np.zeros([m+1, n+1])\n",
    "    b = np.empty([m, n], dtype = '<S1')\n",
    "    #starting the interations\n",
    "    for i in range(1, m+1):\n",
    "        for j in range(1, n+1):\n",
    "            #if two items/chracters/numbers from the corresponding places in the strings are hte same\n",
    "            #then return the combination of two appropriate subproblems\n",
    "            if x[i-1] == y[j-1]:\n",
    "                c[i, j] = c[i-1, j-1] + 1\n",
    "                b[i-1, j-1] = \"diagonal\"\n",
    "            #further, if they are not the same, moving in the approproate direction\n",
    "            elif c[i-1, j] >= c[i, j-1]:\n",
    "                c[i,j] = c[i-1,j]\n",
    "                b[i-1, j-1] = \"up\"\n",
    "            else:\n",
    "                c[i,j] = c[i, j-1]\n",
    "                b[i-1,j-1] = \"left\"\n",
    "    return b, c\n",
    "\n",
    "lcs_length('ansatz', 'algorithms')"
   ]
  },
  {
   "cell_type": "code",
   "execution_count": 90,
   "metadata": {
    "deletable": false,
    "nbgrader": {
     "checksum": "461d600457c90d15b0e62453a571ff5e",
     "grade": false,
     "grade_id": "cell-6b825bf900c2cf0b",
     "locked": false,
     "schema_version": 1,
     "solution": true
    }
   },
   "outputs": [
    {
     "data": {
      "text/plain": [
       "['a', 't']"
      ]
     },
     "execution_count": 90,
     "metadata": {},
     "output_type": "execute_result"
    }
   ],
   "source": [
    "def print_lcs1(b,x,i,j, lst):\n",
    "    if i == 0 or j == 0:\n",
    "        return None\n",
    "    #here we moving from the right lower corner of table b and if the cells is b'd'\n",
    "    #we add this value to the list\n",
    "    if b[i-1, j-1] == b'd':\n",
    "        print_lcs1(b, x, i-1, j-1,lst)\n",
    "        lst.append(x[i-1])\n",
    "    #otherwise we follow thee direction (either leeft or up)\n",
    "    elif b[i-1,j-1] == b'u':\n",
    "        print_lcs1(b, x, i-1, j, lst)\n",
    "    else:\n",
    "        print_lcs1(b, x, i, j-1, lst)\n",
    "    return(lst)\n",
    "\n",
    "def print_lcs(b,x,i,j):\n",
    "    \"\"\"\n",
    "    Finds a LCS.\n",
    "    \n",
    "    Inputs:\n",
    "    - b: a list of lists of strings OR a numpy array, returned by lcs_length\n",
    "    - x: string, an input to lcs_length\n",
    "    - i, j: ints. print_lcs(b,x,i,j) returns a lcs of x[:i] and y[:j], where y\n",
    "    is an input to lcs_length.\n",
    "    \n",
    "    Outputs:\n",
    "    - lcs: list of strings, representing a LCS of x and y\n",
    "    - length: int, the length of the LCS\n",
    "    \n",
    "    You can choose to actually PRINT OUT the LCS or not using the print function.\n",
    "    \n",
    "    \"\"\"\n",
    "    lst = print_lcs1(b,x,i,j, [])\n",
    "    return lst\n",
    "\n",
    "print_lcs(lcs_length('algorithms', 'ansatz')[0], 'algorithms', len('algorithms'), len('ansatz'))\n",
    "\n"
   ]
  },
  {
   "cell_type": "code",
   "execution_count": 70,
   "metadata": {
    "deletable": false,
    "editable": false,
    "nbgrader": {
     "checksum": "a31a295498f3b30f47b9b871b0393427",
     "grade": true,
     "grade_id": "cell-e06e8f09bb8a5063",
     "locked": true,
     "points": 1,
     "schema_version": 1,
     "solution": false
    }
   },
   "outputs": [
    {
     "ename": "IndexError",
     "evalue": "list index out of range",
     "output_type": "error",
     "traceback": [
      "\u001b[0;31m---------------------------------------------------------------------------\u001b[0m",
      "\u001b[0;31mIndexError\u001b[0m                                Traceback (most recent call last)",
      "\u001b[0;32m<ipython-input-70-7db5275a991e>\u001b[0m in \u001b[0;36m<module>\u001b[0;34m()\u001b[0m\n\u001b[1;32m      2\u001b[0m \u001b[0mx\u001b[0m\u001b[0;34m,\u001b[0m \u001b[0my\u001b[0m \u001b[0;34m=\u001b[0m \u001b[0;34m'ambgdec'\u001b[0m\u001b[0;34m,\u001b[0m \u001b[0;34m'aubyci'\u001b[0m\u001b[0;34m\u001b[0m\u001b[0m\n\u001b[1;32m      3\u001b[0m \u001b[0mc\u001b[0m\u001b[0;34m,\u001b[0m \u001b[0mb\u001b[0m \u001b[0;34m=\u001b[0m \u001b[0mlcs_length\u001b[0m\u001b[0;34m(\u001b[0m\u001b[0mx\u001b[0m\u001b[0;34m,\u001b[0m \u001b[0my\u001b[0m\u001b[0;34m)\u001b[0m\u001b[0;34m\u001b[0m\u001b[0m\n\u001b[0;32m----> 4\u001b[0;31m \u001b[0;32massert\u001b[0m\u001b[0;34m(\u001b[0m\u001b[0mprint_lcs\u001b[0m\u001b[0;34m(\u001b[0m\u001b[0mb\u001b[0m\u001b[0;34m,\u001b[0m\u001b[0mx\u001b[0m\u001b[0;34m,\u001b[0m\u001b[0mlen\u001b[0m\u001b[0;34m(\u001b[0m\u001b[0mx\u001b[0m\u001b[0;34m)\u001b[0m\u001b[0;34m-\u001b[0m\u001b[0;36m1\u001b[0m\u001b[0;34m,\u001b[0m\u001b[0mlen\u001b[0m\u001b[0;34m(\u001b[0m\u001b[0my\u001b[0m\u001b[0;34m)\u001b[0m\u001b[0;34m-\u001b[0m\u001b[0;36m1\u001b[0m\u001b[0;34m)\u001b[0m\u001b[0;34m[\u001b[0m\u001b[0;36m0\u001b[0m\u001b[0;34m]\u001b[0m \u001b[0;34m==\u001b[0m \u001b[0;34m[\u001b[0m\u001b[0;34m'a'\u001b[0m\u001b[0;34m,\u001b[0m \u001b[0;34m'b'\u001b[0m\u001b[0;34m,\u001b[0m \u001b[0;34m'c'\u001b[0m\u001b[0;34m]\u001b[0m\u001b[0;34m)\u001b[0m\u001b[0;34m\u001b[0m\u001b[0m\n\u001b[0m\u001b[1;32m      5\u001b[0m \u001b[0;32massert\u001b[0m\u001b[0;34m(\u001b[0m\u001b[0mprint_lcs\u001b[0m\u001b[0;34m(\u001b[0m\u001b[0mb\u001b[0m\u001b[0;34m,\u001b[0m\u001b[0mx\u001b[0m\u001b[0;34m,\u001b[0m\u001b[0mlen\u001b[0m\u001b[0;34m(\u001b[0m\u001b[0mx\u001b[0m\u001b[0;34m)\u001b[0m\u001b[0;34m-\u001b[0m\u001b[0;36m1\u001b[0m\u001b[0;34m,\u001b[0m\u001b[0mlen\u001b[0m\u001b[0;34m(\u001b[0m\u001b[0my\u001b[0m\u001b[0;34m)\u001b[0m\u001b[0;34m-\u001b[0m\u001b[0;36m1\u001b[0m\u001b[0;34m)\u001b[0m\u001b[0;34m[\u001b[0m\u001b[0;36m1\u001b[0m\u001b[0;34m]\u001b[0m \u001b[0;34m==\u001b[0m \u001b[0;36m3\u001b[0m\u001b[0;34m)\u001b[0m\u001b[0;34m\u001b[0m\u001b[0m\n\u001b[1;32m      6\u001b[0m \u001b[0;34m\u001b[0m\u001b[0m\n",
      "\u001b[0;31mIndexError\u001b[0m: list index out of range"
     ]
    }
   ],
   "source": [
    "import numpy as np\n",
    "x, y = 'ambgdec', 'aubyci'\n",
    "c, b = lcs_length(x, y)\n",
    "assert(print_lcs(b,x,len(x)-1,len(y)-1)[0] == ['a', 'b', 'c'])\n",
    "assert(print_lcs(b,x,len(x)-1,len(y)-1)[1] == 3)\n",
    "\n",
    "x, y = 'xyqwsssazdesaqqf', 'xoppoypllzookjdef'\n",
    "c, b = lcs_length(x, y)\n",
    "assert(print_lcs(b,x,len(x)-1,len(y)-1)[0]  == ['x', 'y', 'z', 'd', 'e', 'f'])\n",
    "assert(print_lcs(b,x,len(x)-1,len(y)-1)[1]  == 6)\n"
   ]
  },
  {
   "cell_type": "markdown",
   "metadata": {
    "deletable": false,
    "editable": false,
    "nbgrader": {
     "checksum": "57e7e7602ecc6a6e68a43e8617b53ce4",
     "grade": false,
     "grade_id": "cell-ec09089cf7743c1f",
     "locked": true,
     "schema_version": 1,
     "solution": false
    }
   },
   "source": [
    "## Question 2. (Adapted from Exercise 15-4.1 Cormen et al.)\n",
    "Use the functions built in Question 1 to find the LCS of `'10010101'` and `'010110110'`. You should store the list that represents the LCS you found in a variable named `lcs_q2`"
   ]
  },
  {
   "cell_type": "code",
   "execution_count": 75,
   "metadata": {
    "deletable": false,
    "nbgrader": {
     "checksum": "a56c7ef2c4a16d927d4dd74a899d0d3e",
     "grade": true,
     "grade_id": "cell-5d742a82dde1229f",
     "locked": false,
     "points": 0,
     "schema_version": 1,
     "solution": true
    }
   },
   "outputs": [
    {
     "name": "stdout",
     "output_type": "stream",
     "text": [
      "['1', '0', '0', '1', '1', '0']\n"
     ]
    }
   ],
   "source": [
    "lcs_q2 = print_lcs(lcs_length('10010101', '010110110')[0], '10010101', len('10010101'), len('010110110'))\n",
    "print(lcs_q2)"
   ]
  },
  {
   "cell_type": "markdown",
   "metadata": {
    "deletable": false,
    "editable": false,
    "nbgrader": {
     "checksum": "ea6714ebe001a871d5b981d9f6a5c24a",
     "grade": false,
     "grade_id": "cell-c95fae244dee1762",
     "locked": true,
     "schema_version": 1,
     "solution": false
    }
   },
   "source": [
    "## Question 3. (Adapted from Exercise 15-4.5 Cormen et al.)\n",
    "Complete the following function, making use of `lcs_length` and `print_lcs`. \n",
    "\n"
   ]
  },
  {
   "cell_type": "code",
   "execution_count": 86,
   "metadata": {
    "deletable": false,
    "nbgrader": {
     "checksum": "07848d8cca7a0d100120951571e605d7",
     "grade": true,
     "grade_id": "cell-429c944f34a54c91",
     "locked": false,
     "points": 0,
     "schema_version": 1,
     "solution": true
    }
   },
   "outputs": [
    {
     "data": {
      "text/plain": [
       "[-1, 2, 2, 2, 2]"
      ]
     },
     "execution_count": 86,
     "metadata": {},
     "output_type": "execute_result"
    }
   ],
   "source": [
    "def lmis(lst):\n",
    "    \"\"\"\n",
    "    Finds the Longest Monotonically Increasing Subsequence (LMIS) of a list \n",
    "    (lst) of n numbers in O(n^2) time. Note that a monotonically increasing \n",
    "    sequence is a sequence of numbers such that: a_1 <= a_2 <= ... <= a_n .\n",
    "    \n",
    "    Inputs:\n",
    "    - lst: a list of ints\n",
    "    \n",
    "    Outputs:\n",
    "    - out_lst: a list of ints, a longest monotonically increasing subsequence\n",
    "    of lst\n",
    "    \"\"\"\n",
    "    #here we sort the list and create a table using the original list and itself in a sorted form\n",
    "    x = lst\n",
    "    y = sorted(lst)\n",
    "    #using the lcs_length function\n",
    "    b, c = lcs_length(x, y)\n",
    "    #returning the longest common subsequence which is the LMIS in this case\n",
    "    return(print_lcs(b,lst,len(lst),len(lst)))\n",
    "    \n",
    "lmis([-1, 3, 4, 5, 2, 2, 2, 2])"
   ]
  },
  {
   "cell_type": "code",
   "execution_count": 84,
   "metadata": {},
   "outputs": [
    {
     "data": {
      "text/plain": [
       "[1, 2, 3, 4, 2, 3, 4, 5]"
      ]
     },
     "execution_count": 84,
     "metadata": {},
     "output_type": "execute_result"
    }
   ],
   "source": [
    "#here i was just playing with the approach I found in once YouTube video \n",
    "def lmis2(lst):\n",
    "    #here I created a small table to keep track of the subproblems\n",
    "    storage_lst = [1 for i in range(len(x)+1)]\n",
    "    #initializing interations\n",
    "    for j in range(1, len(storage_lst)):\n",
    "        for i in range(0, j):\n",
    "            #here we make the appropriat comparison and update the cells \n",
    "            #these cells represent solutions to the subproblems\n",
    "            if lst[j] >= lst[i]:\n",
    "                storage_lst[j] = storage_lst[i]+1\n",
    "            else: \n",
    "                continue\n",
    "    #in the end we can see the list with the solutions\n",
    "    #the largest value in the list would be the length of the LMIS\n",
    "    return storage_lst\n",
    "\n",
    "lmis2([-1, 3, 4, 5, 2, 2, 2, 2])"
   ]
  },
  {
   "cell_type": "code",
   "execution_count": 87,
   "metadata": {
    "collapsed": true,
    "deletable": false,
    "editable": false,
    "nbgrader": {
     "checksum": "76332bc03995fdbf3d2b61d41dc672ad",
     "grade": true,
     "grade_id": "cell-f8b218898fb43d19",
     "locked": true,
     "points": 0,
     "schema_version": 1,
     "solution": false
    }
   },
   "outputs": [],
   "source": [
    "assert(lmis([5, 1, 0, 4, 2, 6, 7, 9]) == [1, 4, 6, 7, 9])\n",
    "assert(lmis([6, -1,4,5,5,7,-6,2]) == [-1, 4, 5, 5, 7])"
   ]
  }
 ],
 "metadata": {
  "kernelspec": {
   "display_name": "Python 3",
   "language": "python",
   "name": "python3"
  },
  "language_info": {
   "codemirror_mode": {
    "name": "ipython",
    "version": 3
   },
   "file_extension": ".py",
   "mimetype": "text/x-python",
   "name": "python",
   "nbconvert_exporter": "python",
   "pygments_lexer": "ipython3",
   "version": "3.6.3"
  }
 },
 "nbformat": 4,
 "nbformat_minor": 2
}
