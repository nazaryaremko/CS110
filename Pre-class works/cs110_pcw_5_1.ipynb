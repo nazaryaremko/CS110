{
 "cells": [
  {
   "cell_type": "markdown",
   "metadata": {},
   "source": [
    "Before you turn this problem in, make sure everything runs as expected. First, **restart the kernel** (in the menubar, select Kernel$\\rightarrow$Restart) and then **run all cells** (in the menubar, select Cell$\\rightarrow$Run All).\n",
    "\n",
    "Make sure you fill in any place that says `YOUR CODE HERE` or \"YOUR ANSWER HERE\", as well as your name and collaborators below:"
   ]
  },
  {
   "cell_type": "code",
   "execution_count": null,
   "metadata": {
    "collapsed": true
   },
   "outputs": [],
   "source": [
    "NAME = \"Nazar Yaremko\"\n",
    "COLLABORATORS = \"\""
   ]
  },
  {
   "cell_type": "markdown",
   "metadata": {},
   "source": [
    "---"
   ]
  },
  {
   "cell_type": "markdown",
   "metadata": {
    "deletable": false,
    "editable": false,
    "nbgrader": {
     "checksum": "69779d40de39e2fcb822ffd099ed946a",
     "grade": false,
     "grade_id": "cell-361a67c139252f60",
     "locked": true,
     "schema_version": 1,
     "solution": false
    }
   },
   "source": [
    "# CS110 Pre-class Work 5.1\n",
    "\n",
    "## Question 1.\n",
    "\n",
    "### Question 1a.\n",
    "\n",
    "Write the worst sort function in the world, `worst_sort`. This function takes a list, and then randomly shuffles it until it happens to be in sorted order. Once it is in sorted order then the list is returned.\n"
   ]
  },
  {
   "cell_type": "code",
   "execution_count": 6,
   "metadata": {
    "deletable": false,
    "nbgrader": {
     "checksum": "c144735a0a3c9ee1e5a60e781fec46a9",
     "grade": false,
     "grade_id": "cell-ead9c74054a1c5da",
     "locked": false,
     "schema_version": 1,
     "solution": true
    }
   },
   "outputs": [
    {
     "data": {
      "text/plain": [
       "[-3, 1, 2, 5, 5, 7, 9]"
      ]
     },
     "execution_count": 6,
     "metadata": {},
     "output_type": "execute_result"
    }
   ],
   "source": [
    "import random\n",
    "def worst_sort(A):\n",
    "    #creating a new list that is identical to the list we want to sort\n",
    "    B = A[:]\n",
    "    #sorting the new list \n",
    "    B.sort()\n",
    "    #randomly suffling the original list until it becomes a sorted list\n",
    "    while A != B:\n",
    "        random.shuffle(A)\n",
    "    return A\n",
    "worst_sort([2,5,1,7,9,-3,5])"
   ]
  },
  {
   "cell_type": "code",
   "execution_count": null,
   "metadata": {
    "collapsed": true,
    "deletable": false,
    "editable": false,
    "nbgrader": {
     "checksum": "09c3f02f46b5ba86c3aa80498b9c8c34",
     "grade": true,
     "grade_id": "cell-ff4db3a3e8b04515",
     "locked": true,
     "points": 1,
     "schema_version": 1,
     "solution": false
    }
   },
   "outputs": [],
   "source": [
    "# Please ignore this cell. This cell is for us to implement the tests \n",
    "# to see if your code works properly. "
   ]
  },
  {
   "cell_type": "markdown",
   "metadata": {
    "deletable": false,
    "editable": false,
    "nbgrader": {
     "checksum": "18d2bd43c2db165cb6806cb1e14df4f1",
     "grade": false,
     "grade_id": "cell-3ffcfdae9ec3ea41",
     "locked": true,
     "schema_version": 1,
     "solution": false
    }
   },
   "source": [
    "### Question 1b.\n",
    "What is the best case complexity of this algorithm?"
   ]
  },
  {
   "cell_type": "markdown",
   "metadata": {
    "deletable": false,
    "nbgrader": {
     "checksum": "76bf94004078f73d21791758ac6db72b",
     "grade": true,
     "grade_id": "cell-afac80171b3b6232",
     "locked": false,
     "points": 0,
     "schema_version": 1,
     "solution": true
    }
   },
   "source": [
    "In my case - big omega (1). This would happen if the algoithm luckily shuffled the list to become sorted at the first attempt. However, if we did not use sort() function, then we would have to use another sorting algorithm that can sort B and then the time complexity of the entire algorithm would depend on the sorting algorithm we choose. "
   ]
  },
  {
   "cell_type": "markdown",
   "metadata": {
    "deletable": false,
    "editable": false,
    "nbgrader": {
     "checksum": "1b1210d5a27f9933086d0f3a0d234361",
     "grade": false,
     "grade_id": "cell-d98018127b7e79f4",
     "locked": true,
     "schema_version": 1,
     "solution": false
    }
   },
   "source": [
    "### Question 1c.\n",
    "\n",
    "What is the average case complexity?\n"
   ]
  },
  {
   "cell_type": "markdown",
   "metadata": {
    "deletable": false,
    "nbgrader": {
     "checksum": "97d1e74314efdae93ea73d510e233468",
     "grade": true,
     "grade_id": "cell-9d52d34daa1e3478",
     "locked": false,
     "points": 0,
     "schema_version": 1,
     "solution": true
    }
   },
   "source": [
    "Big theta (N!). This is a chance that the list would be sorted, so I think that on average it would be sorted 1 out of N! times. Because we cae about the growth, the constants don't matter and the complexity would only include N!."
   ]
  },
  {
   "cell_type": "markdown",
   "metadata": {
    "deletable": false,
    "editable": false,
    "nbgrader": {
     "checksum": "fdbf5403114d2a68085e8172d0122685",
     "grade": false,
     "grade_id": "cell-d6d8ad45088488eb",
     "locked": true,
     "schema_version": 1,
     "solution": false
    }
   },
   "source": [
    "### Question 1d.\n",
    "\n",
    "For what size lists is this a feasible method?"
   ]
  },
  {
   "cell_type": "markdown",
   "metadata": {
    "deletable": false,
    "nbgrader": {
     "checksum": "080a5eecbe3afcffed278b7cbba7f51a",
     "grade": true,
     "grade_id": "cell-ab40f08768579798",
     "locked": false,
     "points": 0,
     "schema_version": 1,
     "solution": true
    }
   },
   "source": [
    "For small sizes, definitely. As the size of the list growth, the time comlexity would become massive because factorials grow very fast. "
   ]
  },
  {
   "cell_type": "markdown",
   "metadata": {
    "deletable": false,
    "editable": false,
    "nbgrader": {
     "checksum": "cbe19c6348c19b5df04e84b537f6ebf0",
     "grade": false,
     "grade_id": "cell-56ae4e75a4086ee8",
     "locked": true,
     "schema_version": 1,
     "solution": false
    }
   },
   "source": [
    "### [Optional] Question 1e.\n",
    "\n",
    "Can you think of an even worse sorting method? In such a case, what would its complexity be? How big a list could you sort?"
   ]
  },
  {
   "cell_type": "markdown",
   "metadata": {
    "deletable": false,
    "nbgrader": {
     "checksum": "564b860df18fb1bb2fc987ec4240f98d",
     "grade": true,
     "grade_id": "cell-ac05806942341926",
     "locked": false,
     "points": 0,
     "schema_version": 1,
     "solution": true
    }
   },
   "source": [
    "YOUR ANSWER HERE"
   ]
  },
  {
   "cell_type": "markdown",
   "metadata": {
    "deletable": false,
    "editable": false,
    "nbgrader": {
     "checksum": "40515e7d9388c7d96f739bacbce82dc9",
     "grade": false,
     "grade_id": "cell-16012d2af0ef00ec",
     "locked": true,
     "schema_version": 1,
     "solution": false
    }
   },
   "source": [
    "## Question 2.\n",
    "\n",
    "Approximate median finder. Given a list and δ (a number between 0 and 0.5), the approximate median finder function returns a number that is guaranteed to lie between the (50-tilde{δ}/2)% and (50+\\tilde{δ}/2)% percentiles, where \\tilde{δ}=100*δ. Implement such a function by randomly selecting an element from the list and testing whether or not it lies within the bounds. If it doesn’t then retry with a new random element, but only a limited number of retries are allowed (you decide the maximum number of retries.)\n",
    "\n",
    "### Question 2a.\n",
    "Complete the following function\n"
   ]
  },
  {
   "cell_type": "code",
   "execution_count": 102,
   "metadata": {
    "collapsed": true
   },
   "outputs": [],
   "source": [
    "def merge(A):\n",
    "    #defining the base case to be 1\n",
    "    if len(A)>1:\n",
    "        #calculating the index of the marker that will break the list down into two sublists\n",
    "        q = len(A)//2\n",
    "        #creating two sublists: L and R\n",
    "        L = A[:q]\n",
    "        R = A[q:] \n",
    "        #recursively calling the merge function to break down and collect back both L and R lists. \n",
    "        merge(L)\n",
    "        merge(R)\n",
    "        \n",
    "        #initializing the indexing variables\n",
    "        i = j = k = 0\n",
    "        #lines 18-35 comapre the elements of the created sublists like in three_way_merge1, except this time\n",
    "        #we use the while loop\n",
    "        while i < len(L) and j < len(R): \n",
    "            if L[i] < R[j]:\n",
    "                A[k] = L[i]\n",
    "                i += 1\n",
    "            else:\n",
    "                A[k] = R[j]\n",
    "                j += 1\n",
    "            k += 1\n",
    "            \n",
    "        while i < len(L):\n",
    "            A[k] = L[i]\n",
    "            i += 1\n",
    "            k += 1\n",
    "            \n",
    "        while j < len(R):\n",
    "            A[k] = R[j]\n",
    "            j += 1\n",
    "            k += 1\n",
    "            \n",
    "    return(A)"
   ]
  },
  {
   "cell_type": "code",
   "execution_count": 103,
   "metadata": {
    "deletable": false,
    "nbgrader": {
     "checksum": "548fd28a258929e5cc8df24ef955088e",
     "grade": false,
     "grade_id": "cell-2ab65512a6148d3c",
     "locked": false,
     "schema_version": 1,
     "solution": true
    }
   },
   "outputs": [
    {
     "data": {
      "text/plain": [
       "True"
      ]
     },
     "execution_count": 103,
     "metadata": {},
     "output_type": "execute_result"
    }
   ],
   "source": [
    "import math\n",
    "def check_approx_med(A, num, delta):\n",
    "    #soring the algorithm to find the median\n",
    "    merge(A)\n",
    "    #finding the median\n",
    "    marker = len(A)//2\n",
    "    #checking of the number is withing the bounds specified by the value of delta\n",
    "    #I also had to include len(A) > 1 because It seems like in any case when the length is 1, the only number in it would be the median\n",
    "    #And no matter what the value of delta is, there will be no numbers left to compare\n",
    "    if len(A) > 1 and num >= A[(marker - math.ceil(len(A)*delta/2))] and num <= A[(marker + math.floor(len(A)*delta/2))]:\n",
    "        return True\n",
    "    else:\n",
    "        return False\n",
    "    \n",
    "check_approx_med([1,2,3,4,5,6,7,8], 5, 0.3)"
   ]
  },
  {
   "cell_type": "code",
   "execution_count": 104,
   "metadata": {
    "collapsed": true,
    "deletable": false,
    "editable": false,
    "nbgrader": {
     "checksum": "e36da35c2400ca389ff7bb609167a787",
     "grade": true,
     "grade_id": "cell-df56d7433abb6517",
     "locked": true,
     "points": 1,
     "schema_version": 1,
     "solution": false
    }
   },
   "outputs": [],
   "source": [
    "assert(check_approx_med([0,1], 0, .25) == True)\n",
    "assert(check_approx_med([0], 0, .25) == False)"
   ]
  },
  {
   "cell_type": "markdown",
   "metadata": {
    "deletable": false,
    "editable": false,
    "nbgrader": {
     "checksum": "ea4f76410780e7134e2bc46fbe5663e9",
     "grade": false,
     "grade_id": "cell-18a16dfd102f137c",
     "locked": true,
     "schema_version": 1,
     "solution": false
    }
   },
   "source": [
    "### Question 2b.\n",
    "Complete the following function that makes use of `check_approx_med` above.\n"
   ]
  },
  {
   "cell_type": "code",
   "execution_count": 193,
   "metadata": {
    "deletable": false,
    "nbgrader": {
     "checksum": "2b3cfdf82e0efce4078cc52b3680f7be",
     "grade": false,
     "grade_id": "cell-e19685b545147dde",
     "locked": false,
     "schema_version": 1,
     "solution": true
    }
   },
   "outputs": [
    {
     "data": {
      "text/plain": [
       "(1, 0)"
      ]
     },
     "execution_count": 193,
     "metadata": {},
     "output_type": "execute_result"
    }
   ],
   "source": [
    "def approx_med_finder(A, delta):\n",
    "    #starting the count\n",
    "    count = 0\n",
    "    #while the count is 0, randomly choose numbers\n",
    "    while count < 100//delta:\n",
    "        a = random.choice(A)\n",
    "        #checking if the random number is approximately a median\n",
    "        if check_approx_med(A, a, delta) == False:\n",
    "            count += 1\n",
    "        else:\n",
    "            return a, count\n",
    "\n",
    "approx_med_finder([1,1,1,1,1,1,1,1], 0.3)"
   ]
  },
  {
   "cell_type": "markdown",
   "metadata": {
    "deletable": false,
    "editable": false,
    "nbgrader": {
     "checksum": "77b77f7047dea39f9b7526a785f0e652",
     "grade": false,
     "grade_id": "cell-1863e0846b176982",
     "locked": true,
     "schema_version": 1,
     "solution": false
    }
   },
   "source": [
    "### Question 2c.\n",
    "\n",
    "What is the probability of failure in each random trial? What is the probability of failure after all the allowed random trials? Does this scale with δ or N (the number of elements in a list)?\n"
   ]
  },
  {
   "cell_type": "markdown",
   "metadata": {
    "deletable": false,
    "nbgrader": {
     "checksum": "f7d6ed353a91d12d66b53a735d84f81b",
     "grade": true,
     "grade_id": "cell-efe7ab76f6a2546a",
     "locked": false,
     "points": 0,
     "schema_version": 1,
     "solution": true
    }
   },
   "source": [
    "The probability of failure would be (N- delta x N)/N which is 1 - delta. This would represent the probability of a random function choosing a number that is not within the boundaries of delta. It certainly scales with the values of delta. For instance, the smaller delta is, the bigger probability of the failurer would be. Regarding N, I don't think that N matters and no matter what N we choose (N- delta x N)/N would be the same.\n",
    "\n",
    "x - multiplication sign"
   ]
  },
  {
   "cell_type": "markdown",
   "metadata": {
    "deletable": false,
    "editable": false,
    "nbgrader": {
     "checksum": "a602a3cad0ff35029b447d00dcee6b6c",
     "grade": false,
     "grade_id": "cell-a41fe377076cd283",
     "locked": true,
     "schema_version": 1,
     "solution": false
    }
   },
   "source": [
    "### Question 2d.\n",
    "Analyze the expected runtime of `approx_med_finder`. Note that because the function uses `check_approx_med`, you will most likely need to analyze the runtime of that function, too."
   ]
  },
  {
   "cell_type": "markdown",
   "metadata": {
    "deletable": false,
    "nbgrader": {
     "checksum": "255d88cf8e4f6ff8b3eb05cab2aa5f48",
     "grade": true,
     "grade_id": "cell-86b199798477fc2a",
     "locked": false,
     "points": 0,
     "schema_version": 1,
     "solution": true
    }
   },
   "source": [
    "check_approx_med would uses the merge function to sort the list, which is nlogn. Further, it does a couple of comparisions which are constant, so for the growth of time complexity they do not matter. Further, approx_med_finder function has a probability of (delta * N)/N which is delta to find the correct number. Therefore, the overal time complexity would be nlogn + (delta x N)/N. Therefore, the overall complexity would be big theta (nlogn) which is the part of the overall complexity that grows the fastest."
   ]
  }
 ],
 "metadata": {
  "kernelspec": {
   "display_name": "Python 3",
   "language": "python",
   "name": "python3"
  },
  "language_info": {
   "codemirror_mode": {
    "name": "ipython",
    "version": 3
   },
   "file_extension": ".py",
   "mimetype": "text/x-python",
   "name": "python",
   "nbconvert_exporter": "python",
   "pygments_lexer": "ipython3",
   "version": "3.6.3"
  }
 },
 "nbformat": 4,
 "nbformat_minor": 2
}
