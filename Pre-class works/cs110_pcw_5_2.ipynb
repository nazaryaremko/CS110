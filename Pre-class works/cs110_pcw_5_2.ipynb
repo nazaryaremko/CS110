{
 "cells": [
  {
   "cell_type": "markdown",
   "metadata": {},
   "source": [
    "Before you turn this problem in, make sure everything runs as expected. First, **restart the kernel** (in the menubar, select Kernel$\\rightarrow$Restart) and then **run all cells** (in the menubar, select Cell$\\rightarrow$Run All).\n",
    "\n",
    "Make sure you fill in any place that says `YOUR CODE HERE` or \"YOUR ANSWER HERE\", as well as your name and collaborators below:"
   ]
  },
  {
   "cell_type": "code",
   "execution_count": null,
   "metadata": {
    "collapsed": true
   },
   "outputs": [],
   "source": [
    "NAME = \"Nazar Yaremko\"\n",
    "COLLABORATORS = \"\""
   ]
  },
  {
   "cell_type": "markdown",
   "metadata": {},
   "source": [
    "---"
   ]
  },
  {
   "cell_type": "markdown",
   "metadata": {
    "deletable": false,
    "editable": false,
    "nbgrader": {
     "checksum": "1a4c3cfc3c34bf644ee45d91835b6f70",
     "grade": false,
     "grade_id": "cell-61b183447ded09ef",
     "locked": true,
     "schema_version": 1,
     "solution": false
    }
   },
   "source": [
    "# CS110 Pre-class Work 5.2\n",
    "\n",
    "## Question 1.\n",
    "Using Figure 7.1 in Cormen et al. as a model, perform manually the partition process on the following list: A = [1,5,6,2,3,8,9,4,7]. You just need to specify the followings:\n",
    "1. The array after the process is done.\n",
    "2. The value of $i$ after the process is done."
   ]
  },
  {
   "cell_type": "markdown",
   "metadata": {
    "deletable": false,
    "nbgrader": {
     "checksum": "06dce98d07f8f042785a795b32e7ef75",
     "grade": true,
     "grade_id": "cell-7aa520f8af13679b",
     "locked": false,
     "points": 0,
     "schema_version": 1,
     "solution": true
    }
   },
   "source": [
    "7 will be the divider because it is in the end of the list.  \n",
    "i = -1  \n",
    "is 1 < 7?  \n",
    "Yes -> i = 0, j = 0, A = [1,5,6,2,3,8,9,4,7]  \n",
    "is 5 < 7?  \n",
    "Yes -> i = 1, j = 1, A = [1,5,6,2,3,8,9,4,7]  \n",
    "is 6 < 7?  \n",
    "Yes -> i = 2, j = 2, A = [1,5,6,2,3,8,9,4,7]  \n",
    "is 2 < 7?  \n",
    "Yes -> i = 3, j = 3, A = [1,5,6,2,3,8,9,4,7]  \n",
    "is 3 < 7?  \n",
    "Yes -> i = 4, j = 4, A = [1,5,6,2,3,8,9,4,7]  \n",
    "is 8 < 7?  \n",
    "No -> j = 5  \n",
    "is 9 < 7?  \n",
    "No -> j = 6  \n",
    "is 4 < 7?  \n",
    "Yes -> i = 5, j = 7, A = [1,5,6,2,3,4,9,8,7]  \n",
    "\n",
    "Now we swap the divider with the number under index i+1. Since i is 5 in the end, we place the divider under index 6 and the final array will look like this: [1,5,6,2,3,4,7,8,9]  \n",
    "The final value of i is 5. "
   ]
  },
  {
   "cell_type": "markdown",
   "metadata": {
    "deletable": false,
    "editable": false,
    "nbgrader": {
     "checksum": "21059776e9083caf84e8abb5b6fb893e",
     "grade": false,
     "grade_id": "cell-6c0a9dfd6980c336",
     "locked": true,
     "schema_version": 1,
     "solution": false
    }
   },
   "source": [
    "## Question 2.\n",
    "Code up a Python implementation of `partition(A, p, r)`, closely follow the pseudo-code in Cormen et al., p.172. Your function should return the index of the pivot in the array."
   ]
  },
  {
   "cell_type": "code",
   "execution_count": 83,
   "metadata": {
    "collapsed": true,
    "deletable": false,
    "nbgrader": {
     "checksum": "395997ac94ed1416c67b22f7977c07a5",
     "grade": false,
     "grade_id": "cell-1ceb2600756c60ff",
     "locked": false,
     "schema_version": 1,
     "solution": true
    }
   },
   "outputs": [],
   "source": [
    "def partition(A,p,r):\n",
    "    #using the last number to be a divider\n",
    "    x = A[r]\n",
    "    #creating a variable that we will update every time we find a value to the left of the divider that is smaller\n",
    "    i = p - 1 \n",
    "    #iterating through the list\n",
    "    for j in range(p, r):\n",
    "        #checking if the number is smaller than the divider\n",
    "        if A[j] < x:\n",
    "            #if yes, then updating i\n",
    "            i = i+1\n",
    "            #swapping the value under index j to the value under index i\n",
    "            #this will assure that the values smaller to the divider always stay to the left from A[i+1]\n",
    "            A[j],A[i] = A[i],A[j]\n",
    "    #placing the divider in the correct position\n",
    "    A[i+1],A[r] = A[r], A[i+1]\n",
    "    #returning index of the divider\n",
    "    return i+1"
   ]
  },
  {
   "cell_type": "code",
   "execution_count": 84,
   "metadata": {
    "collapsed": true,
    "deletable": false,
    "editable": false,
    "nbgrader": {
     "checksum": "34aa315313b6f9d8de8efe0922e5b563",
     "grade": true,
     "grade_id": "cell-a57b60117a7b82fb",
     "locked": true,
     "points": 1,
     "schema_version": 1,
     "solution": false
    }
   },
   "outputs": [],
   "source": [
    "A = [1,5,6,2,3,8,9,4,7]\n",
    "assert(partition(A, 0, len(A)-1)==6)"
   ]
  },
  {
   "cell_type": "markdown",
   "metadata": {
    "deletable": false,
    "editable": false,
    "nbgrader": {
     "checksum": "3496e310776eba92a8290d114db627cd",
     "grade": false,
     "grade_id": "cell-cd490c45f6733522",
     "locked": true,
     "schema_version": 1,
     "solution": false
    }
   },
   "source": [
    "## Question 3.\n",
    "\n",
    "Code up your own Python implementation of `quicksort(A, p, r)`, using `partition(A,p,r)`."
   ]
  },
  {
   "cell_type": "code",
   "execution_count": 85,
   "metadata": {
    "collapsed": true,
    "deletable": false,
    "nbgrader": {
     "checksum": "7e40c51fd1bd31c790aa0dd8abde1fb7",
     "grade": false,
     "grade_id": "cell-8c39ebb8cd1aa83a",
     "locked": false,
     "schema_version": 1,
     "solution": true
    }
   },
   "outputs": [],
   "source": [
    "def quick_sort(A,p,r):\n",
    "    #checking if the list is not empty\n",
    "    if p<r:\n",
    "        #finding the place where we need to put the divider\n",
    "        q = partition(A,p,r)\n",
    "        #recursively calling the function on the first half of the list\n",
    "        quick_sort(A,p,q-1)\n",
    "        #recursively calling the function on the second half of the list\n",
    "        quick_sort(A,q+1,r)\n",
    "    return A"
   ]
  },
  {
   "cell_type": "code",
   "execution_count": 86,
   "metadata": {
    "collapsed": true,
    "deletable": false,
    "editable": false,
    "nbgrader": {
     "checksum": "80923d1142f0ef958a616db1105a8c1a",
     "grade": true,
     "grade_id": "cell-4f822430efd456ee",
     "locked": true,
     "points": 1,
     "schema_version": 1,
     "solution": false
    }
   },
   "outputs": [],
   "source": [
    "A = [0]\n",
    "assert(quick_sort(A, 0, 0) == [0])\n",
    "A = [3,1,2]\n",
    "assert(quick_sort(A, 0, 2) == [1,2,3])"
   ]
  },
  {
   "cell_type": "markdown",
   "metadata": {
    "deletable": false,
    "editable": false,
    "nbgrader": {
     "checksum": "741cfe874ccaef343713f81ec963360c",
     "grade": false,
     "grade_id": "cell-53941fba9302c591",
     "locked": true,
     "schema_version": 1,
     "solution": false
    }
   },
   "source": [
    "## Question 4. \n",
    "Explain (using experimental plots) the running time of `quick_sort` when: \n",
    "1. all elements of array A have the same value (e.g., [1,1,1])?\n",
    "2. array A contains distinct elements sorted in decreasing order (e.g., [5,4,2,1])?\n"
   ]
  },
  {
   "cell_type": "code",
   "execution_count": 87,
   "metadata": {
    "collapsed": true,
    "deletable": false,
    "nbgrader": {
     "checksum": "f5ddaf0e684d72d229df078b18f321f8",
     "grade": true,
     "grade_id": "cell-b58035dd5fa02329",
     "locked": false,
     "points": 0,
     "schema_version": 1,
     "solution": true
    }
   },
   "outputs": [],
   "source": [
    "#importing all of the necessary libraries\n",
    "import matplotlib.pyplot as plt\n",
    "import numpy as np\n",
    "import time as time\n",
    "\n",
    "#creating empty lists for the times\n",
    "t1 = []\n",
    "t2 = []\n",
    "\n",
    "#this for loops creates 119 lists of different sizes that contain numbers that are sorted in a descending order\n",
    "for k in range(1,120):\n",
    "    list_1 = []\n",
    "    for i in range(10*k, 0, -1):\n",
    "        list_1.append(i)\n",
    "    #here we record the time for each sorting operation\n",
    "    a = time.time()\n",
    "    quick_sort(list_1, 0, len(list_1)-1)\n",
    "    b = time.time()\n",
    "    t1.append(b-a)\n",
    "  #this for loops creates 119 lists of different sizes that contain identical numbers \n",
    "for k in range(1,120):\n",
    "    list_2 = []\n",
    "    for i in range(1, 10*k):\n",
    "        list_2.append([2]*i)\n",
    "    #here we record the time for each sorting operation\n",
    "    a = time.time()\n",
    "    quick_sort(list_2, 0, len(list_2)-1)\n",
    "    b = time.time()\n",
    "    t2.append(b-a)\n",
    "    \n",
    "#creating values for the x axis that represent sizes of the inputs.\n",
    "x = list(np.linspace(0, 1200, 119))"
   ]
  },
  {
   "cell_type": "code",
   "execution_count": 89,
   "metadata": {},
   "outputs": [
    {
     "data": {
      "text/plain": [
       "<matplotlib.legend.Legend at 0x113518c88>"
      ]
     },
     "execution_count": 89,
     "metadata": {},
     "output_type": "execute_result"
    },
    {
     "data": {
      "image/png": "[encoded data removed]",
      "text/plain": [
       "<Figure size 432x288 with 1 Axes>"
      ]
     },
     "metadata": {},
     "output_type": "display_data"
    }
   ],
   "source": [
    "#plotting the graphs\n",
    "plt.plot(x,t1,label = \"Lists containing numbers sorted in descending order\", color = \"blue\")\n",
    "plt.plot(x,t2,label = \"Lists containing identical\", color = \"pink\")\n",
    "\n",
    "plt.title(\"Efficiency of quick sort in sorting \\n lists with different types of input\")\n",
    "plt.ylabel(\"Time (s)\")\n",
    "plt.xlabel(\"Size of the input\")\n",
    "plt.legend(loc=\"upper left\")"
   ]
  },
  {
   "cell_type": "markdown",
   "metadata": {},
   "source": [
    "As we can see, the lists which contain identical numbers are sorted much slower. This can be explained by the fact that partitions in such case will always be unbalanced because \"if A[j] < x:\" in the partition function will never be satisfied so the divider will always be placed in the beginning of the list. As we could read in chapter 7.2, in the worst case scenario, time complexity of quick_sort is O(N^2) which can be seen by the quadratic growth of the orange line. On the other hand, if all of the numbers are in a reversed order, the divider will be placed in different spots all the time. In this case, time complexity will be O(nlogn) and I think that the reason for this is that some of the divisions will be balanced and some of them will be unbalanced. This can be confirmed by looking at the blue line that is growing logarithmically."
   ]
  }
 ],
 "metadata": {
  "kernelspec": {
   "display_name": "Python 3",
   "language": "python",
   "name": "python3"
  },
  "language_info": {
   "codemirror_mode": {
    "name": "ipython",
    "version": 3
   },
   "file_extension": ".py",
   "mimetype": "text/x-python",
   "name": "python",
   "nbconvert_exporter": "python",
   "pygments_lexer": "ipython3",
   "version": "3.6.3"
  }
 },
 "nbformat": 4,
 "nbformat_minor": 2
}
