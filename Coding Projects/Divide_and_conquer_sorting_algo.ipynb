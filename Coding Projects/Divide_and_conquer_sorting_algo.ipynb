{
 "cells": [
  {
   "cell_type": "markdown",
   "metadata": {},
   "source": [
    "Before you turn this problem in, make sure everything runs as expected. First, **restart the kernel** (in the menubar, select Kernel$\\rightarrow$Restart) and then **run all cells** (in the menubar, select Cell$\\rightarrow$Run All).\n",
    "\n",
    "Make sure you fill in any place that says `YOUR CODE HERE` or \"YOUR ANSWER HERE\", as well as your name and collaborators below:"
   ]
  },
  {
   "cell_type": "code",
   "execution_count": null,
   "metadata": {},
   "outputs": [],
   "source": [
    "NAME = \"Nazar Yaremko\"  \n",
    "COLLABORATORS = \"Daniel Hernandez - helped me understand the purpose of the recursiveness in algorithms more effectively; Svitlana Midianko - helped me understand how to solve recursive equations which was helpful for this assignment\""
   ]
  },
  {
   "cell_type": "markdown",
   "metadata": {},
   "source": [
    "---"
   ]
  },
  {
   "cell_type": "markdown",
   "metadata": {
    "deletable": false,
    "editable": false,
    "nbgrader": {
     "checksum": "b40a3a7f6a8c68f100a7bd3ae895c3ee",
     "grade": false,
     "grade_id": "cell-1127d0babde89bd7",
     "locked": true,
     "schema_version": 1,
     "solution": false
    }
   },
   "source": [
    "\n",
    "# CS110 Spring 2020- Assignment 1\n",
    "# Divide and Conquer Sorting Algorithms\n",
    "\n",
    "This assignment focuses on the implementation of sorting algorithms and analyzing their performance both mathematically (using theoretical arguments on the asymptotic behavior of algorithms ) and experimentally (i.e., running experiments for different input arrays and plotting relevant performance results). \n",
    "\n",
    "Every CS110 assignment begins with a check-up on your class responsibilities and professional standing. If you have submitted make-up work, you will also receive formative feedback on it, accompanied by a grade reflecting on your ability to address one of the course LOs. Thus to complete the first part of this assignment, you will need to take a screenshot of your CS110 dashboard on Forum where the following is visible:\n",
    "\n",
    "* your name.\n",
    "* your absences for the course have been set to excused up to the last session from week 2 (inclusively) .\n",
    "\n",
    "This will be evidence that you have submitted acceptable pre-class and make-up work for a CS110 session you may have missed. Please check the specific CS110 make-up and pre-class policies in the syllabus of the course.\n",
    "\n",
    "\n",
    "**NOTES:**\n",
    "\n",
    "1. Your assignment submission needs to include the following resources:\n",
    "\n",
    "* A PDF file must be the first resource. This file must be generated from the template notebook where you have written all of the answers (check this [link](https://docs.google.com/document/d/1gRMol9Ebbvyu1mvEKzma92o_N7ZbNXsPIb1QdQV0TeE/edit#heading=h.10jakf1cwxpq) for instructions on how to do this). Make sure that the PDF displays properly (all text and code can be seen within the paper margins), and that your work is neat and clearly presented. \n",
    "* Your second resource must be the template notebook you have downloaded from the gist provided and where you included your answers. The name of this resource must include your own name. Submit this file directly following the directions in this picture:\n",
    "\n",
    "\n",
    "<img src=\"images/upload.png\" width=\"800\" height=\"200\">\n",
    "\n",
    "If you are unable to submit the jupyter notebook directly, please compress all the materials of your submission, and submit the zip file as your second resource instead.\n",
    "\n",
    "2. Tasks (1)-(7) will be graded on the indicated LOs; please make sure to consult their descriptions and rubrics in the course syllabus. You will not be penalized for not attempting the optional challenge.\n",
    "\n",
    "3. In this first assignment, you will receive formative feedback on your reference, application and justification of the HCs but no actual grades. Only in subsequent assignments will the HCs applications be graded. This is an opportunity for you to deepen your argumentation skills without generating a grade. \n",
    "\n",
    "As such, after completing the assignment, evaluate the application of the HCs you have identified prior to and while you were working on this assignment and footnote them (refer to [these guidelines](https://docs.google.com/document/d/1s7yOVOtMIaHQdKLeRmZbq1gRqwJKfezBsfru9Q6PcHw/edit) on how to incorporate HCs in your work). \n",
    "\n",
    "Here are some examples of weak applications of some of the relevant HCs:\n",
    "\n",
    "* Example 1: “#algorithms: I wrote an implementation of Bubble sort”. \n",
    "    * This is an extremely superficial use of the HC in a course on Algorithms, and your reference will be graded accordingly. Instead, consider what constitutes an algorithm (see Cormen et al., sections 1.1 and 1.2). Once you have a good definition of an algorithm, think of how this notion helped you approach the implementation of the algorithm, analyze its complexity and understand why it’s important to write an optimal Python implementation of the algorithm.\n",
    "\n",
    "* Example 2: “#dataviz: I plotted nice curves showing the execution time of bubble sort, or I plotted beautiful curves with different colors and labels.”\n",
    "\n",
    "    * Again, these two examples are very superficial uses of the HC #dataviz. Instead, consider writing down how do the plots and figures helped you interpret, analyze and write concluding remarks from your experiments. Or write about any insight you included in your work that came from being able to visualize the curves.\n",
    "\n",
    "\n",
    "* Example 3: “#professionalism: I wrote a nice paper/article that follows all the directions in this assignment.” \n",
    "\n",
    "    * By now, you should realize that this is a poor application of the HC #professionalism. Instead, comment on how you actively considered the HC while deciding on the format, length, and style for writing your report.\n",
    "\n",
    "4. Your code will be tested for similarity using Turnitin, both to other students’ work and examples available online. As such, be sure to cite all references that you used in devising your solution. Any plagiarism attempts will be referred to the ASC, as per the course’s policy in the syllabus.\n",
    "\n",
    "\n",
    "** Complete the following tasks which will be graded in the designated LOs and foregrounded HCs (please consult the LOs rubrics on the syllabus):**\n",
    "\n",
    "## Question 1. [HCs #responsibility; appropriate LO]\n",
    "\n",
    "Submit a screenshot of your CS110 dashboard with the information described above. You can do this by writing:\n",
    "```\n",
    "from IPython.display import Image\n",
    "Image(filename=’your_screenshot.png’)\n",
    "```"
   ]
  },
  {
   "cell_type": "markdown",
   "metadata": {
    "deletable": false,
    "nbgrader": {
     "checksum": "0213df8457d00052ca84409fbb119a7c",
     "grade": true,
     "grade_id": "cell-e76d08e5c403180f",
     "locked": false,
     "points": 0,
     "schema_version": 1,
     "solution": true
    }
   },
   "source": [
    "https://docs.google.com/document/d/1TLx1djVBQjhY4WjHHk264pJPUIoMYpzhzHY0vsj64s0/edit?usp=sharing"
   ]
  },
  {
   "cell_type": "markdown",
   "metadata": {
    "deletable": false,
    "editable": false,
    "nbgrader": {
     "checksum": "b3c8a8e1fd87a705f8ae943081513797",
     "grade": false,
     "grade_id": "cell-2a94124c1b43fea6",
     "locked": true,
     "schema_version": 1,
     "solution": false
    }
   },
   "source": [
    "## Question 2. [#SortingAlgorithms, #PythonProgramming, #CodeReadability] \n",
    "\n",
    "Write a Python 3 implementation of the three-way merge sort algorithm discussed in class using the code skeleton below. You should also provide at least three test cases (possibly edge cases) that demonstrate the correctness of your code. Your output must be a sorted **Python list.**\n"
   ]
  },
  {
   "cell_type": "code",
   "execution_count": 2,
   "metadata": {},
   "outputs": [],
   "source": [
    "#importing all of the necessary libraries for the following codes\n",
    "import math\n",
    "import numpy as np\n",
    "import time\n",
    "import matplotlib.pyplot as plt\n",
    "import random as random"
   ]
  },
  {
   "cell_type": "code",
   "execution_count": 3,
   "metadata": {
    "deletable": false,
    "nbgrader": {
     "checksum": "52fc4bd029432fb3de26fbea6da20cbf",
     "grade": false,
     "grade_id": "cell-47961f0da38f1381",
     "locked": false,
     "schema_version": 1,
     "solution": true
    }
   },
   "outputs": [],
   "source": [
    "#THESE FUNCTION ARE THE COMPONENTS OF THE FINAL THREE WAY MERGE FUNCTION\n",
    "def three_way_merge1(A, p, q1, q2, r):\n",
    "    \"\"\"Implements three-way marge sort\n",
    "    \n",
    "    Input:\n",
    "    arr: a Python list OR numpy array (your code should work with both of these data types)\n",
    "    \n",
    "    Output: a sorted Python list\"\"\"\n",
    "    #creating three lists: for simplicity I called them L, M and R (for left, middle and right)\n",
    "    #infinity is added to make sure that all of the numbers of all lists are compared (if we reach the end of\n",
    "    #one list the loop won't stop, because infinity cannot be smaller than anything)\n",
    "    L = A[p:q1] + [float(\"inf\")]\n",
    "    M = A[q1:q2] + [float(\"inf\")]\n",
    "    R = A[q2:r] + [float(\"inf\")]\n",
    "    #initializing the indexing variables to be 0\n",
    "    i = j = k = 0\n",
    "    #iterating throught he length of A\n",
    "    for s in range(p,r): \n",
    "        #comparing the ith element of the L list ot kth and jth elements of lists R and M\n",
    "        if L[i] <= R[k] and L[i] <= M[j]:\n",
    "            #if the statement is true, the sth element in A becomes L[i]\n",
    "            A[s] = L[i]\n",
    "            #moving the marker in L list 1 number to the right\n",
    "            i = i+1\n",
    "        #comparing jth element of M to kth and ith elements of R and L\n",
    "        elif M[j] <= R[k]:\n",
    "            #if the statement is true, the sth element in A becomes L[i]\n",
    "            A[s] = M[j]\n",
    "            #moving the marker in M list 1 number to the right\n",
    "            j = j+1\n",
    "        else:\n",
    "            #the only not compared element form 3 lists in this case would be R[k], therefore it must be\n",
    "            #the smallest\n",
    "            A[s] = R[k]\n",
    "            #moving the marker in R list 1 number to the right\n",
    "            k = k+1\n",
    "    return A\n",
    "\n",
    "def three_way_merge_sort1(A,p,r):\n",
    "    #setting the base case to be at least 2\n",
    "    if r-p >= 2:\n",
    "        #calculating the values of two points that will break the list into three sublists \n",
    "        q1 = p + math.ceil((r-p)/3)\n",
    "        q2 = q1+ math.ceil((r-p)/3)\n",
    "        #recursively calling the function to break the list down into sublists until the base case is reached\n",
    "        three_way_merge_sort1(A,p,q1)\n",
    "        three_way_merge_sort1(A,q1,q2)\n",
    "        three_way_merge_sort1(A,q2,r)\n",
    "        #this funciton then merges the sublists into a sorted array\n",
    "        three_way_merge1(A, p, q1,q2, r)\n",
    "    return A\n",
    "\n",
    "#final function that needs only one parameter. It also checks if the input is a numpy array and if yes, converts\n",
    "#it into a list\n",
    "def three_way_merge(A):\n",
    "    if type(A) != list:\n",
    "        A = A.tolist()\n",
    "        three_way_merge_sort1(A,0,len(A))\n",
    "        return A\n",
    "    else:\n",
    "        three_way_merge_sort1(A,0,len(A))\n",
    "        return A"
   ]
  },
  {
   "cell_type": "markdown",
   "metadata": {},
   "source": [
    "__#algorithms:__ This HC is applied here particularly well, because recursive technique is correctly used to implement a three-way merge sort. This is a strong application because it required deep understanding of the code and it's goal. I strengthen my application by concise descriptions of different lines of the code that improve its readability."
   ]
  },
  {
   "cell_type": "code",
   "execution_count": 4,
   "metadata": {},
   "outputs": [
    {
     "name": "stdout",
     "output_type": "stream",
     "text": [
      "[-9, -8, -7, -6, -5, -4, -3, -2, -1]\n",
      "[4, 5, 5, 5, 5, 7]\n",
      "[]\n"
     ]
    }
   ],
   "source": [
    "#checking three edge-cases:\n",
    "#All negative numbers in a reversed order\n",
    "print(three_way_merge([-1,-2,-3,-4,-5,-6,-7,-8,-9]))\n",
    "#A list that contains duplicate numbers\n",
    "print(three_way_merge([7,5,5,5,5,4]))\n",
    "#An empty list\n",
    "print(three_way_merge([]))"
   ]
  },
  {
   "cell_type": "code",
   "execution_count": 5,
   "metadata": {
    "deletable": false,
    "editable": false,
    "nbgrader": {
     "checksum": "d0e00aa2481aea1232da19ec1692f45c",
     "grade": true,
     "grade_id": "cell-41b1d220414c9bd0",
     "locked": true,
     "points": 1,
     "schema_version": 1,
     "solution": false
    }
   },
   "outputs": [],
   "source": [
    "assert(three_way_merge([4,3,2,1]) == [1,2,3,4])\n",
    "assert(three_way_merge(np.array([4,3,2,1])) == [1,2,3,4]) "
   ]
  },
  {
   "cell_type": "markdown",
   "metadata": {
    "deletable": false,
    "editable": false,
    "nbgrader": {
     "checksum": "fc1955ef79cb6aaf4508478f72b426cf",
     "grade": false,
     "grade_id": "cell-bf1e08fbb21272f7",
     "locked": true,
     "schema_version": 1,
     "solution": false
    }
   },
   "source": [
    "## Question 3.  [#SortingAlgorithms, #PythonProgramming, #CodeReadability, #ComputationalCritique] \n",
    "\n",
    "Implement a second version of a three-way merge sort that calls bubble sort when sublists are below a certain length (of your choice) rather than continuing the subdivision process. Justify on the basis of theoretical and potentially also experimental arguments what might be an appropriate threshold for the input array for applying bubble sort.\n"
   ]
  },
  {
   "cell_type": "code",
   "execution_count": 6,
   "metadata": {},
   "outputs": [],
   "source": [
    "#THESE FUNCTIONS ARE COMPONENTS OF THE FINAL EXTENDED THREE WAY MERGE SORT\n",
    "#this is an extended version of three_way_merge_sort1. The difference is that it calls on bubble sort if the length \n",
    "#of the sublist is smaller than 40\n",
    "def three_way_merge_sort2(A,p,r):\n",
    "    if r-p < 10:\n",
    "        A[p:r] = bubbleSort(A[p:r])\n",
    "    else:\n",
    "        q1 = p + math.ceil((r-p)/3)\n",
    "        q2 = q1+ math.ceil((r-p)/3)\n",
    "        three_way_merge_sort2(A,p,q1)\n",
    "        three_way_merge_sort2(A,q1,q2)\n",
    "        three_way_merge_sort2(A,q2,r)\n",
    "        three_way_merge1(A, p, q1,q2, r)\n",
    "        return A\n",
    "\n",
    "#this is a standard bubble sort algorithm that that at each compares two numbers at each step \n",
    "#and swaps them if number i is bigger than i+1\n",
    "def bubbleSort(A):\n",
    "    for i in range(len(A)-1):\n",
    "        for j in range(len(A)-1-i):\n",
    "            if A[j] > A[j+1]:\n",
    "                #this lines swaps two numbers\n",
    "                A[j+1], A[j] = A[j],A[j+1]\n",
    "    return A"
   ]
  },
  {
   "cell_type": "markdown",
   "metadata": {},
   "source": [
    "We know that worst-case scenario time complexity for bubble sort is __O(n^2)__ whereas for three-way merge sort it is __O(nlogn)__. However, if we break down the amount of steps, the three-way marge sort requires additional constant steps to sort the algorithm, which will affect the efficiency because the algorithm will have to sort a huge amount of small lists after breaking them down and the constants will a considerable impact. Below I have provided time performance of bubble sort vs three-way merge sort for small lists and as we can see, small lists are sorted faster with bubble sort. After testing different numbers from 5 to 20 with bigger lists, the optimal threshhold was chosen - 10. A graph with the results is provided in the answer to Question 6."
   ]
  },
  {
   "cell_type": "code",
   "execution_count": 7,
   "metadata": {},
   "outputs": [
    {
     "data": {
      "text/plain": [
       "<matplotlib.legend.Legend at 0x111c85710>"
      ]
     },
     "execution_count": 7,
     "metadata": {},
     "output_type": "execute_result"
    },
    {
     "data": {
      "image/png": "[encoded data removed]",
      "text/plain": [
       "<Figure size 432x288 with 1 Axes>"
      ]
     },
     "metadata": {},
     "output_type": "display_data"
    }
   ],
   "source": [
    "#TESTING THE TIMES IT TAKES FOR TWO ALGORITHMS TO SORT SMALL LISTS\n",
    "#MORE DETAIL DECRIPTION OF HOW TO EVALUATE THE TIME IT TAKE TO SORT A LIST WILL BE PROVIDED FURTHER\n",
    "test_1 = []\n",
    "for k in range(1,6):\n",
    "    list_k = []\n",
    "    for i in range(10*k, 0, -1):\n",
    "        list_k.append(i)\n",
    "    a = time.time()\n",
    "    bubbleSort(list_k)\n",
    "    b = time.time()\n",
    "    test_1.append(b-a)\n",
    "    \n",
    "test_2 = []\n",
    "for k in range(1,6):\n",
    "    list_k = []\n",
    "    for i in range(10*k, 0, -1):\n",
    "        list_k.append(i)\n",
    "    a = time.time()\n",
    "    three_way_merge(list_k)\n",
    "    b = time.time()\n",
    "    test_2.append(b-a)\n",
    "    \n",
    "x = [0,10,20,30,40]\n",
    "\n",
    "\n",
    "plt.plot(x,test_1,label = \"Bubble sort\")\n",
    "plt.plot(x,test_2,label = \"Three-way merge sort\")\n",
    "plt.title(\"Efficiency of 2 sorting algorithms in terms of \\n time required to sort a list\")\n",
    "plt.ylabel(\"Time (s)\")\n",
    "plt.xlabel(\"Size of input (n)\")\n",
    "plt.legend(loc=\"upper left\")"
   ]
  },
  {
   "cell_type": "code",
   "execution_count": 8,
   "metadata": {
    "deletable": false,
    "nbgrader": {
     "checksum": "bda5610ee1c06392a5c75a11acd4aaf0",
     "grade": false,
     "grade_id": "cell-e1e72cc08eb6a5f0",
     "locked": false,
     "schema_version": 1,
     "solution": true
    }
   },
   "outputs": [],
   "source": [
    "#this is the final extended_three_way_merge_sort that requires one parameter and checks whether the parameter\n",
    "#is a numpy array and if yes, converts it into a list\n",
    "def extended_three_way_merge_sort(A):\n",
    "    \"\"\"Implements the second version of a three-way merge sort\n",
    "    \n",
    "    Input:\n",
    "    arr: a Python list OR numpy array (your code should work with both of these data types)\n",
    "    Output: a sorted Python list\"\"\"\n",
    "    if type(A) != list:\n",
    "        A = A.tolist()\n",
    "        three_way_merge_sort2(A,0,len(A))\n",
    "        return A\n",
    "    else:\n",
    "        three_way_merge_sort2(A,0,len(A))\n",
    "        return A"
   ]
  },
  {
   "cell_type": "code",
   "execution_count": 9,
   "metadata": {
    "deletable": false,
    "editable": false,
    "nbgrader": {
     "checksum": "67aa3d8368da069e20c5a02e417f6e2f",
     "grade": true,
     "grade_id": "cell-8ab1cb1e1b4c76fb",
     "locked": true,
     "points": 0,
     "schema_version": 1,
     "solution": false
    }
   },
   "outputs": [
    {
     "ename": "NameError",
     "evalue": "name 'extended_three_way_merge' is not defined",
     "output_type": "error",
     "traceback": [
      "\u001b[0;31m---------------------------------------------------------------------------\u001b[0m",
      "\u001b[0;31mNameError\u001b[0m                                 Traceback (most recent call last)",
      "\u001b[0;32m<ipython-input-9-1f0961643797>\u001b[0m in \u001b[0;36m<module>\u001b[0;34m()\u001b[0m\n\u001b[0;32m----> 1\u001b[0;31m \u001b[0;32massert\u001b[0m\u001b[0;34m(\u001b[0m\u001b[0mextended_three_way_merge\u001b[0m\u001b[0;34m(\u001b[0m\u001b[0;34m[\u001b[0m\u001b[0;36m4\u001b[0m\u001b[0;34m,\u001b[0m\u001b[0;36m3\u001b[0m\u001b[0;34m,\u001b[0m\u001b[0;36m2\u001b[0m\u001b[0;34m,\u001b[0m\u001b[0;36m1\u001b[0m\u001b[0;34m]\u001b[0m\u001b[0;34m)\u001b[0m \u001b[0;34m==\u001b[0m \u001b[0;34m[\u001b[0m\u001b[0;36m1\u001b[0m\u001b[0;34m,\u001b[0m\u001b[0;36m2\u001b[0m\u001b[0;34m,\u001b[0m\u001b[0;36m3\u001b[0m\u001b[0;34m,\u001b[0m\u001b[0;36m4\u001b[0m\u001b[0;34m]\u001b[0m\u001b[0;34m)\u001b[0m\u001b[0;34m\u001b[0m\u001b[0m\n\u001b[0m\u001b[1;32m      2\u001b[0m \u001b[0;32massert\u001b[0m\u001b[0;34m(\u001b[0m\u001b[0mextended_three_way_merge\u001b[0m\u001b[0;34m(\u001b[0m\u001b[0mnp\u001b[0m\u001b[0;34m.\u001b[0m\u001b[0marray\u001b[0m\u001b[0;34m(\u001b[0m\u001b[0;34m[\u001b[0m\u001b[0;36m4\u001b[0m\u001b[0;34m,\u001b[0m\u001b[0;36m3\u001b[0m\u001b[0;34m,\u001b[0m\u001b[0;36m2\u001b[0m\u001b[0;34m,\u001b[0m\u001b[0;36m1\u001b[0m\u001b[0;34m]\u001b[0m\u001b[0;34m)\u001b[0m\u001b[0;34m)\u001b[0m \u001b[0;34m==\u001b[0m \u001b[0;34m[\u001b[0m\u001b[0;36m1\u001b[0m\u001b[0;34m,\u001b[0m\u001b[0;36m2\u001b[0m\u001b[0;34m,\u001b[0m\u001b[0;36m3\u001b[0m\u001b[0;34m,\u001b[0m\u001b[0;36m4\u001b[0m\u001b[0;34m]\u001b[0m\u001b[0;34m)\u001b[0m\u001b[0;34m\u001b[0m\u001b[0m\n",
      "\u001b[0;31mNameError\u001b[0m: name 'extended_three_way_merge' is not defined"
     ]
    }
   ],
   "source": [
    "assert(extended_three_way_merge([4,3,2,1]) == [1,2,3,4])\n",
    "assert(extended_three_way_merge(np.array([4,3,2,1])) == [1,2,3,4]) "
   ]
  },
  {
   "cell_type": "markdown",
   "metadata": {
    "deletable": false,
    "editable": false,
    "nbgrader": {
     "checksum": "19e6aa4b6b6d26cdfe75d36d77e68f9f",
     "grade": false,
     "grade_id": "cell-05230d0283ee03d4",
     "locked": true,
     "schema_version": 1,
     "solution": false
    }
   },
   "source": [
    "## Question 4 [#SortingAlgorithms, #PythonProgramming, #CodeReadability] \n",
    "\n",
    "Bucket sort (or Bin sort) is an algorithm that takes as inputs an n-element array and the number of buckets, k, to be used during sorting.  Then, the algorithm distributes the elements of the input array into k-different buckets and proceeds to sort the individual buckets. Then, merges the sorted buckets to obtained the sorted array. Here is pseudocode for the BucketSort algorithm:\n",
    "\n",
    "<img src=\"images/bucket.png\" width=\"800\" height=\"200\">\n",
    "\n",
    "The BucketSort code above calls the function GetBucketNum  (see the pseudocode below) to distribute all the elements of array A into k-buckets.  Every element in the array is assigned a bucket number based on its value (positive or negative numbers). GetBucketNum returns the bucket number that corresponds to element A[i].   It takes as inputs the element of the array, A[i], the max and min elements in A, the size of the intervals in every bucket (e.g., if you have numbers with values between  0 and 100 numbers and 5 buckets, every bucket has an interval of size 20 = [100-0]/5).  Notice that in pseudocode, the indices of the arrays are from 1 to n. Thus, GetBucketNum consistently returns a number between 1 and n (make sure you account for this in your Python program).\n",
    "\n",
    "\n",
    "<img src=\"images/getbucketnum.png\" width=\"800\" height=\"200\">\n",
    "\n",
    "Write a Python 3 implementation of BucketSort that uses the bubble sort algorithm for sorting the individual buckets in line 10 of the algorithm."
   ]
  },
  {
   "cell_type": "code",
   "execution_count": 10,
   "metadata": {
    "deletable": false,
    "nbgrader": {
     "checksum": "3c43cacdf4e5272a4f062b7d3a5e3ccc",
     "grade": false,
     "grade_id": "cell-4f283016e5365a91",
     "locked": false,
     "schema_version": 1,
     "solution": true
    }
   },
   "outputs": [],
   "source": [
    "#THESE FUNCTIONS ARE COMPONENTS OF THE FINAL BUCKET_SORT FUNCTION\n",
    "\n",
    "#This function returns the bucket numebr that corresponds to element A[i]\n",
    "#The point of this function is to distribute the numbers into the bucket so every bucket had a certain interval \n",
    "#of the number. Therfore it compares the number to the minimum and maximum values.\n",
    "def GetNum (a, mn, mx, sz, k):\n",
    "    if a == mx:\n",
    "        j = k\n",
    "    elif a == mn:\n",
    "        j = 0\n",
    "    else:\n",
    "        #here it incrementaly compares the values of the number to minimum value plus size*j where j is a \n",
    "        #variable that incrementally grows. In this way we get intervals that have a size of size of the arrays\n",
    "        j = 0\n",
    "        while a >= mn+ (sz*j):\n",
    "            j += 1\n",
    "    return j\n",
    "\n",
    "#This function creates k buckets and distributes the elements into them for further sorting\n",
    "def bucket(A, k):\n",
    "    #these three functions identify minimum and maximum values of the list and its size\n",
    "    mn = min(A)\n",
    "    mx = max(A)\n",
    "    sz = math.ceil((mx - mn)/k) \n",
    "    #creating k empty buckets\n",
    "    buckets = [ [] for i in range(k+1) ]\n",
    "    #iterating all of the elements in the list\n",
    "    for i in range(0, len(A)):\n",
    "        #calling the GetNum function that returns a number and puts it in a certain bucket\n",
    "        b = GetNum(A[i], mn, mx, sz, k)\n",
    "        buckets[b].append(A[i])\n",
    "    #in this part the algorithm goes through all buckets and applies bubble sort on all of them\n",
    "    for i in range(0, k+1):\n",
    "        bubbleSort(buckets[i])\n",
    "    \n",
    "    #here we add numbers from all the buckets into the finalized sorted list\n",
    "    A = []\n",
    "    for i in range(0,k+1):\n",
    "        A = A + buckets[i]\n",
    "    return A"
   ]
  },
  {
   "cell_type": "code",
   "execution_count": 11,
   "metadata": {},
   "outputs": [],
   "source": [
    "#this is the final bucket_sort that requires two parameters and checks whether the first parameter\n",
    "#is a numpy array and if yes, converts it into a list\n",
    "def bucket_sort(A,k):\n",
    "    \"\"\"Implements BucketSort\n",
    "    \n",
    "    Input:\n",
    "    arr: a Python list OR numpy array (your code should work with both of these data types)\n",
    "    k: int, number of buckets\n",
    "    \n",
    "    Output: a sorted Python list\"\"\"\n",
    "    if type(A) != list:\n",
    "        A = A.tolist()\n",
    "        return bucket(A,k)\n",
    "    else:\n",
    "        return bucket(A,k)   "
   ]
  },
  {
   "cell_type": "code",
   "execution_count": 12,
   "metadata": {
    "deletable": false,
    "editable": false,
    "nbgrader": {
     "checksum": "48101974eb50e24695c14057726cdf08",
     "grade": true,
     "grade_id": "cell-2a287ffea077a4e6",
     "locked": true,
     "points": 1,
     "schema_version": 1,
     "solution": false
    }
   },
   "outputs": [],
   "source": [
    "assert(bucket_sort([4,3,2,1], 1) == [1,2,3,4])\n",
    "assert(bucket_sort(np.array([4,3,2,1]), 1) == [1,2,3,4])\n",
    "assert(bucket_sort([4,3,2,1], 3) == [1,2,3,4])\n",
    "assert(bucket_sort(np.array([4,3,2,1]), 3) == [1,2,3,4])"
   ]
  },
  {
   "cell_type": "markdown",
   "metadata": {
    "deletable": false,
    "editable": false,
    "nbgrader": {
     "checksum": "d720b82cffed91c73c65f935dce98c9c",
     "grade": false,
     "grade_id": "cell-280061fa442a3cdf",
     "locked": true,
     "schema_version": 1,
     "solution": false
    }
   },
   "source": [
    "## Question 5 [#SortingAlgorithms, #PythonProgramming, #CodeReadability]\n",
    "\n",
    "Implement a second version of the BucketSort algorithm. This time in line 10 of BucketSort apply the Bucket sort algorithm recursively until the size of the bucket is less than or equal to k, the base case (notice that fewer than k partitions will be inefficient).\n"
   ]
  },
  {
   "cell_type": "code",
   "execution_count": 13,
   "metadata": {
    "deletable": false,
    "nbgrader": {
     "checksum": "57dbe67cb68f6268950463afaf5ababa",
     "grade": false,
     "grade_id": "cell-d90434b2aa46d9aa",
     "locked": false,
     "schema_version": 1,
     "solution": true
    }
   },
   "outputs": [],
   "source": [
    "#THIS FUNCTION IS A COMPONENT OF THE FINAL FUNCTION\n",
    "def extended_bucket(A, k):\n",
    "    #lines 3-12 are the same procedures as in the regular bucket_sort described earlier\n",
    "    mn = min(A)\n",
    "    mx = max(A)\n",
    "    #this line allows to prevent any comparisons in the bucket if it consists of the duplicates or has only one number\n",
    "    if mn == mx:\n",
    "        return A\n",
    "    sz = math.ceil((mx - mn)/k) \n",
    "    buckets = [ [] for i in range(k+1) ]\n",
    "    for i in range(0, len(A)):\n",
    "        b = GetNum(A[i], mn, mx, sz, k)\n",
    "        buckets[b].append(A[i])\n",
    "    #In this part we extend a bucket sort: we go through all of the buckets and use the function ENUMERATE that\n",
    "    #does not only iterate through the buckets but also keeps track of the number of interations\n",
    "    for i, bucket in enumerate(buckets):\n",
    "        if len(bucket) > 1:\n",
    "            #in this way we go through all of the buckets AND subbuckets that we create by breaking the buckets\n",
    "            #down into smaller subbuckets\n",
    "            buckets[i] = extended_bucket_sort(bucket, k)\n",
    "            \n",
    "    #here we are creating the final sorted list by adding numebrs for all of the buckets\n",
    "    A = []\n",
    "    for i in range(0,k+1):\n",
    "        A = A + buckets[i]\n",
    "    return A"
   ]
  },
  {
   "cell_type": "code",
   "execution_count": 14,
   "metadata": {},
   "outputs": [],
   "source": [
    "#this is the final extended_bucket_sort that requires two parameters and checks whether the first parameter\n",
    "#is a numpy array and if yes, converts it into a list\n",
    "def extended_bucket_sort(A,k):\n",
    "    \"\"\"Implements the second version of the BucketSort algorithm\n",
    "    \n",
    "    Input:\n",
    "    arr: a Python list OR numpy array (your code should work with both of these data types)\n",
    "    k: int, number of buckets\n",
    "    \n",
    "    Output: a sorted Python list\"\"\"\n",
    "    if type(A) != list:\n",
    "        A = A.tolist()\n",
    "        return extended_bucket(A,k)\n",
    "    else:\n",
    "        return extended_bucket(A,k)   "
   ]
  },
  {
   "cell_type": "code",
   "execution_count": 15,
   "metadata": {
    "deletable": false,
    "editable": false,
    "nbgrader": {
     "checksum": "cebb0168976148f3e697e1d2e0c4f727",
     "grade": true,
     "grade_id": "cell-a42f473f6bd53e24",
     "locked": true,
     "points": 1,
     "schema_version": 1,
     "solution": false
    }
   },
   "outputs": [],
   "source": [
    "assert(extended_bucket_sort([4,3,2,1], 1) == [1,2,3,4])\n",
    "assert(extended_bucket_sort(np.array([4,3,2,1]), 1) == [1,2,3,4])\n",
    "assert(extended_bucket_sort([4,3,2,1], 3) == [1,2,3,4])\n",
    "assert(extended_bucket_sort(np.array([4,3,2,1]), 3) == [1,2,3,4])"
   ]
  },
  {
   "cell_type": "markdown",
   "metadata": {
    "deletable": false,
    "editable": false,
    "nbgrader": {
     "checksum": "6067f95c6b23e98e07fb691da8fc7ade",
     "grade": false,
     "grade_id": "cell-13706de3e5f69cf9",
     "locked": true,
     "schema_version": 1,
     "solution": false
    }
   },
   "source": [
    "## Question 6 [#ComplexityAnalysis, #ComputationalCritique] \n",
    "\n",
    "Analyze and compare the practical run times of regular merge sort (i.e., two-way merge sort), three-way merge sort, and the augmented merge sort from (3) by producing a plot that illustrates how every running time grows with input size. Make sure to:\n",
    "\n",
    "1. define what each algorithm's complexity is\n",
    "2. enumerate the explicit assumptions made to assess each run time of the algorithm's run time.\n",
    "3. and compare your benchmarks with the theoretical result we have discussed in class.\n"
   ]
  },
  {
   "cell_type": "code",
   "execution_count": 16,
   "metadata": {},
   "outputs": [],
   "source": [
    "#This is a standard merge function that we need for the comparison \n",
    "\n",
    "def merge(A):\n",
    "    #defining the base case to be 1\n",
    "    if len(A)>1:\n",
    "        #calculating the index of the marker that will break the list down into two sublists\n",
    "        q = len(A)//2\n",
    "        #creating two sublists: L and R\n",
    "        L = A[:q]\n",
    "        R = A[q:] \n",
    "        #recursively calling the merge function to break down and collect back both L and R lists. \n",
    "        merge(L)\n",
    "        merge(R)\n",
    "        \n",
    "        #initializing the indexing variables\n",
    "        i = j = k = 0\n",
    "        #lines 18-35 comapre the elements of the created sublists like in three_way_merge1, except this time\n",
    "        #we use the while loop\n",
    "        while i < len(L) and j < len(R): \n",
    "            if L[i] < R[j]:\n",
    "                A[k] = L[i]\n",
    "                i += 1\n",
    "            else:\n",
    "                A[k] = R[j]\n",
    "                j += 1\n",
    "            k += 1\n",
    "            \n",
    "        while i < len(L):\n",
    "            A[k] = L[i]\n",
    "            i += 1\n",
    "            k += 1\n",
    "            \n",
    "        while j < len(R):\n",
    "            A[k] = R[j]\n",
    "            j += 1\n",
    "            k += 1\n",
    "            \n",
    "    return(A)"
   ]
  },
  {
   "cell_type": "code",
   "execution_count": 17,
   "metadata": {},
   "outputs": [],
   "source": [
    "#TIMES OF THE TWO-WAY MERGE SORT\n",
    "\n",
    "#creating an empty list\n",
    "t1_1 = []\n",
    "#going through different values of k (from 1 to 99)\n",
    "for k in range(1,100):\n",
    "    #creating an empy list for the list we want to sort\n",
    "    list_k = []\n",
    "    #this function creates a list with 100*k elements in reversed order\n",
    "    for i in range(100*k, 0, -1):\n",
    "        list_k.append(i)\n",
    "    #initializing time\n",
    "    a = time.time()\n",
    "    #calling the function on the list\n",
    "    merge(list_k)\n",
    "    #finalizing time\n",
    "    b = time.time()\n",
    "    #calculating the time it took for the function to sort the list\n",
    "    t1_1.append(b-a)\n",
    "    \n",
    "#TIMES OF THE THREE_WAY MERGE SORT\n",
    "#THE SAME PROCEDURES AS LINES 6-19\n",
    "t2 = []\n",
    "for k in range(1,100):\n",
    "    list_k = []\n",
    "    for i in range(100*k, 0, -1):\n",
    "        list_k.append(i)\n",
    "    a = time.time()\n",
    "    three_way_merge(list_k)\n",
    "    b = time.time()\n",
    "    t2.append(b-a)\n",
    "    \n",
    "#TIMES OF THE EXTENDED THREE_WAY MERGE SORT\n",
    "#THE SAME PROCEDURES AS LINES 6-19\n",
    "t3 = []\n",
    "for k in range(1,100):\n",
    "    list_k = []\n",
    "    for i in range(100*k, 0, -1):\n",
    "        list_k.append(i)\n",
    "    a = time.time()\n",
    "    extended_three_way_merge_sort(list_k)\n",
    "    b = time.time()\n",
    "    t3.append(b-a)"
   ]
  },
  {
   "cell_type": "code",
   "execution_count": 18,
   "metadata": {
    "deletable": false,
    "nbgrader": {
     "checksum": "b27c65928ef98faa0539bcb27f7a6eb7",
     "grade": true,
     "grade_id": "cell-7de481a7d24e508b",
     "locked": false,
     "points": 0,
     "schema_version": 1,
     "solution": true
    }
   },
   "outputs": [
    {
     "data": {
      "text/plain": [
       "<matplotlib.legend.Legend at 0x111de5208>"
      ]
     },
     "execution_count": 18,
     "metadata": {},
     "output_type": "execute_result"
    },
    {
     "data": {
      "image/png": "[encoded data removed]",
      "text/plain": [
       "<Figure size 432x288 with 1 Axes>"
      ]
     },
     "metadata": {},
     "output_type": "display_data"
    }
   ],
   "source": [
    "#Here we create data visualizations for the run-times of three algorithms\n",
    "#creating an x variable that is basically a list of numbers form 1 to 99\n",
    "x = list(range(1,100))\n",
    "\n",
    "#plotting three time lists against the x variables\n",
    "plt.plot(x,t1_1,label = \"Two-way merge sort\")\n",
    "plt.plot(x,t2,label = \"Three-way merge sort\")\n",
    "plt.plot(x,t3,label = \"Extended three-way merge sort\")\n",
    "\n",
    "#creating a title, legend and labeling x and y axes\n",
    "plt.title(\"Efficiency of 3 sorting algorithms in terms of \\n time required to sort a list\")\n",
    "plt.ylabel(\"Time (s)\")\n",
    "plt.xlabel(\"Value of k in the function that creates a list - \\n range(100*k, 0, -1)\")\n",
    "plt.legend(loc=\"upper left\")"
   ]
  },
  {
   "cell_type": "markdown",
   "metadata": {},
   "source": [
    "__#dataviz:__ This and the following data visualizations were crucial to show the differentce between run times of three different algorithms. It is properly labaled, and shows the information clearly."
   ]
  },
  {
   "cell_type": "markdown",
   "metadata": {},
   "source": [
    "Based on the graph we can see that two-way merge sort, three-way merge sort and extended three-way merge sort algorithms have approximatly the same growth of running time as the input size increases. Theoretical time complexities of two-way and three-way merge sorts are both __O(nlogn)__ - the difference is in the base of logarithm which is a constant and therefore is negligible when evaluating growth of a function. The graph is in agreement with this - we can see that the orange (three-way merge) and blue (two-way merge) lines have a similar growth. Regarding the extended three-way merge, it is taking advantage of the ability of bubble sort to quickly sort small agorithms and it performs slightly faster. That being said, the growth of the extended three-way merge would also be __O(nlogn)__, however the base would be much larger as our base case is not 1 anymore, but 10, so it would take around n/k^i = 10 steps to break everything down. This would take logn steps with a base of 30. Because logarithms with bigger bases grow slower, this would explain the slower growth of the extended three-way merge.\n",
    "\n",
    "The results provided on this figure correspond to the theoretical predictions. All of these functions show linear growth as expected. \n",
    "\n",
    "It is important to mention that performance of these algorithm is valid not in all cases. The time it takes to sort and algorithm depends on the speed of the computer and therefore, these results would likely be different for more or less powerful computers. A more objective measure of the efficiency would be a number of steps as it would depend solely on the algorithm and not on any characteristics of the computer. \n",
    "\n"
   ]
  },
  {
   "cell_type": "markdown",
   "metadata": {
    "deletable": false,
    "editable": false,
    "nbgrader": {
     "checksum": "182abfd4b5c161d778fd41c1c59b1b0d",
     "grade": false,
     "grade_id": "cell-f6182ad360cf8184",
     "locked": true,
     "schema_version": 1,
     "solution": false
    }
   },
   "source": [
    "## Question 7. [#ComplexityAnalysis, #ComputationalCritique] \n",
    "\n",
    "Analyze and compare the practical run times of regular merge sort (i.e., two-way merge sort), Bucket sort, and extended_bucket_sort by producing a plot that illustrates how the algorithms' runtimes depend on both the input size and the nature of the input (e.g., totally randomized inputs vs inversely sorted inputs). Make sure to:\n",
    "\n",
    "1. define what each algorithm's complexity is in terms of the BigO notation\n",
    "2. enumerate the explicit assumptions made to assess each algorithm's run time\n",
    "3. analyze the running times on inputs of at least three different natures\n",
    "4. and compare your benchmarks with the theoretical result we have discussed in class.\n"
   ]
  },
  {
   "cell_type": "code",
   "execution_count": 19,
   "metadata": {
    "deletable": false,
    "nbgrader": {
     "checksum": "dace8b567522d6b9040779f6fcf6dafd",
     "grade": true,
     "grade_id": "cell-76dce7d4abf57157",
     "locked": false,
     "points": 0,
     "schema_version": 1,
     "solution": true
    }
   },
   "outputs": [],
   "source": [
    "#TIMES OF THE MERGE BUT FOR RANDOMIZED LISTS.\n",
    "t1_2 = []\n",
    "for k in range(1,100):\n",
    "    list_k = []\n",
    "    #This function creates a list of k*100 random numbers in the range -100*k to 100*k .\n",
    "    res = [random.randrange(-100, 100) for i in range(k*100)] \n",
    "    for i in (res):\n",
    "        list_k.append(i)\n",
    "    a = time.time()\n",
    "    merge(list_k)\n",
    "    b = time.time()\n",
    "    t1_2.append(b-a)\n",
    "\n",
    "t1_3 = []\n",
    "for k in range(1,100):\n",
    "    list_k = []\n",
    "    #This function creates a list of k*100 random numbers in the range -100*k to 100*k .\n",
    "    res = [random.randrange(k*-100, k*100) for i in range(k*100)] \n",
    "    for i in (res):\n",
    "        list_k.append(i)\n",
    "    a = time.time()\n",
    "    merge(list_k)\n",
    "    b = time.time()\n",
    "    t1_3.append(b-a)\n",
    "    \n",
    "#TIMES OF THE BUCKET SORT\n",
    "#THE SAME PROCEDURES AS WHEN WE CALCUALTED TIMES FOR THREE_WAY_SORT AND EXTENDED_THREE_WAY_MERGE_SORT\n",
    "t4_1 = []\n",
    "for k in range(1,100):\n",
    "    list_k = []\n",
    "    for i in range(100*k, 0, -1):\n",
    "        list_k.append(i)\n",
    "    a = time.time()\n",
    "    bucket_sort(list_k, 40)\n",
    "    b = time.time()\n",
    "    t4_1.append(b-a)\n",
    "\n",
    "#THE SAME PROCEDURES AS LINES 2-12 (in this cell)\n",
    "#Choice of 40 for for the value of k in the bucket sort algorithms was arbitrary but after trying out different values\n",
    "#like len(A), len(A)/10, 200, 100, etc. 40 seemed to make the algorithm the most efficient.\n",
    "t4_2 = []\n",
    "for k in range(1,100):\n",
    "    list_k = []\n",
    "    res = [random.randrange(-100, 100) for i in range(k*100)] \n",
    "    for i in (res):\n",
    "        list_k.append(i)\n",
    "    a = time.time()\n",
    "    bucket_sort(list_k, 40)\n",
    "    b = time.time()\n",
    "    t4_2.append(b-a)\n",
    "\n",
    "t4_3 = []\n",
    "for k in range(1,100):\n",
    "    list_k = []\n",
    "    res = [random.randrange(k*-100, k*100) for i in range(k*100)] \n",
    "    for i in (res):\n",
    "        list_k.append(i)\n",
    "    a = time.time()\n",
    "    bucket_sort(list_k, 40)\n",
    "    b = time.time()\n",
    "    t4_3.append(b-a)\n",
    "\n",
    "#TIMES OF THE EXTENDED BUCKET SORT\n",
    "#THE SAME PROCEDURES AS WHEN WE CALCUALTED TIMES FOR THREE_WAY_SORT AND EXTENDED_THREE_WAY_MERGE_SORT\n",
    "t5_1 = []\n",
    "for k in range(1,100):\n",
    "    list_k = []\n",
    "    for i in range(100*k, 0, -1):\n",
    "        list_k.append(i)\n",
    "    a = time.time()\n",
    "    extended_bucket_sort(list_k, 40)\n",
    "    b = time.time()\n",
    "    t5_1.append(b-a)\n",
    "\n",
    "#THE SAME PROCEDURES AS LINES 2-12 (in this cell)\n",
    "t5_2 = []\n",
    "for k in range(1,100):\n",
    "    list_k = []\n",
    "    res = [random.randrange(-100, 100) for i in range(k*100)] \n",
    "    for i in (res):\n",
    "        list_k.append(i)\n",
    "    a = time.time()\n",
    "    extended_bucket_sort(list_k, 40)\n",
    "    b = time.time()\n",
    "    t5_2.append(b-a)\n",
    "\n",
    "\n",
    "t5_3 = []\n",
    "for k in range(1,100):\n",
    "    list_k = []\n",
    "    res = [random.randrange(k*-100, k*100) for i in range(k*100)] \n",
    "    for i in (res):\n",
    "        list_k.append(i)\n",
    "    a = time.time()\n",
    "    extended_bucket_sort(list_k, 40)\n",
    "    b = time.time()\n",
    "    t5_3.append(b-a)\n",
    "    "
   ]
  },
  {
   "cell_type": "code",
   "execution_count": 20,
   "metadata": {},
   "outputs": [
    {
     "data": {
      "text/plain": [
       "<matplotlib.legend.Legend at 0x111dbe5f8>"
      ]
     },
     "execution_count": 20,
     "metadata": {},
     "output_type": "execute_result"
    },
    {
     "data": {
      "image/png": "[encoded data removed]",
      "text/plain": [
       "<Figure size 432x288 with 1 Axes>"
      ]
     },
     "metadata": {},
     "output_type": "display_data"
    }
   ],
   "source": [
    "#Here we create data visualizations for the run-times of three algorithms\n",
    "#THIS GRAPH WILL REPRESENT THE EFFICIENCY OF THREE ALGORITHMS FOR LISTS SORTED IN A REVERSED ORDER\n",
    "\n",
    "x = list(range(1,100))\n",
    "\n",
    "plt.plot(x,t1_1,label = \"Two-way merge sort\")\n",
    "plt.plot(x,t4_1,label = \"Bucket sort\")\n",
    "plt.plot(x,t5_1,label = \"Extended bucket sort\")\n",
    "\n",
    "plt.title(\"Efficiency of 3 sorting algorithms in terms of \\n time required to sort a list\")\n",
    "plt.ylabel(\"Time (s)\")\n",
    "plt.xlabel(\"Value of k in the function that creates a list - \\n range(100*k, 0, -1)\")\n",
    "plt.legend(loc=\"upper left\")"
   ]
  },
  {
   "cell_type": "markdown",
   "metadata": {},
   "source": [
    "Two-way merge sort time complexity: __O(nlogn)__  \n",
    "Bucket sort algorithm time complexity: __O(n^2)__  - This is in case all of the numbers end up in one bucket and time complexity of the bucket sort becomes time complixty of bubble sort O(n^2)  \n",
    "Extended bucket sort: __O(klogn)__ - This result is intuitive and is based on the fact that we the recursive algorithm is trying to break the buckets into subbuckets until the lengths of all subbuckets are 1 or 0. Therefore, we would have to break the list i times until we reach the length of 1. We can now create an equation similar to one in merge sort where n/k^i = 1, where k is a number of buckets. Then i is log(n) with a base of k which has to be multiplied by the number of elements at each level which is close to k (depending on how many times we have to break down the new buckets).\n",
    "\n",
    "Overall, time complexity of the bucket sort depends on how uniformly distributed the lists are. Given that the first graph represents the results of sorting a uniformly distributed list (all of the numbers appear once and are in reversed order), the extended bucket sort performs better than the normal bucket sort because every bucket has approximately the same amount of items. This is better because if the list was not uniformly distributed, some buckets would have more numbers and the bucket sort would take over, increasing the time needed to sort the list (since time complexity of bubble sort for reversed lists is O(N^2)). In this case, however, the strength of the algorithm is utilized, because the list is broken down into relatively similar sublists. Finally, we can see that the two-way merge sort/extended bucket sort indeed show a linear growth and growth of bucket sort is close to quadratic."
   ]
  },
  {
   "cell_type": "code",
   "execution_count": 21,
   "metadata": {},
   "outputs": [
    {
     "data": {
      "text/plain": [
       "<matplotlib.legend.Legend at 0x111f709e8>"
      ]
     },
     "execution_count": 21,
     "metadata": {},
     "output_type": "execute_result"
    },
    {
     "data": {
      "image/png": "[encoded data removed]",
      "text/plain": [
       "<Figure size 432x288 with 1 Axes>"
      ]
     },
     "metadata": {},
     "output_type": "display_data"
    }
   ],
   "source": [
    "#EFFICIENCY OF THREE ALGORITHMS FOR RANDOMIZED LISTS WITH A NARROW RANGE\n",
    "\n",
    "x = list(range(1,100))\n",
    "plt.plot(x,t1_2,label = \"Two-way merge sort\")\n",
    "plt.plot(x,t4_2,label = \"Bucket sort\")\n",
    "plt.plot(x,t5_2,label = \"Extended bucket merge sort\")\n",
    "\n",
    "#creating a title, legend and labeling x and y axes\n",
    "plt.title(\"Efficiency of 3 sorting algorithms in terms of \\n time required to sort a list\")\n",
    "plt.ylabel(\"Time (s)\")\n",
    "plt.xlabel(\"Value of k in the function that creates a list - \\n random.randrange(-100, 100) for i in range(k*100)\")\n",
    "plt.legend(loc=\"upper left\")"
   ]
  },
  {
   "cell_type": "markdown",
   "metadata": {},
   "source": [
    "Here we can see that all of the algorithms performed better than in the previous test. Also we can observe that the difference between the performance of bucket sort and extended bucket sort is even bigger. The input now less uniformly distributed (because it is randomized and the bounds are very tight - from -100 to 100 for thousands of numbers) and therefore, some buckets can be bigger and the bubble sort takes over in the regular bucket sort. \n",
    "\n",
    "Now we can predict that if we widen the bounds and make the data more distributed, extended bucket sort will not have such an advantage over the regular bucket sort:"
   ]
  },
  {
   "cell_type": "code",
   "execution_count": 22,
   "metadata": {},
   "outputs": [
    {
     "data": {
      "text/plain": [
       "<matplotlib.legend.Legend at 0x1120d0898>"
      ]
     },
     "execution_count": 22,
     "metadata": {},
     "output_type": "execute_result"
    },
    {
     "data": {
      "image/png": "[encoded data removed]",
      "text/plain": [
       "<Figure size 432x288 with 1 Axes>"
      ]
     },
     "metadata": {},
     "output_type": "display_data"
    }
   ],
   "source": [
    "#EFFICIENCY OF THREE ALGORITHMS FOR RANDOMIZED LISTS WITH WIDE RANGE\n",
    "x = list(range(1,100))\n",
    "\n",
    "#plotting three time lists against the x variables\n",
    "#here we are reusing the x-variable from the previous data visualizations\n",
    "plt.plot(x,t1_3,label = \"Two-way merge sort\")\n",
    "plt.plot(x,t4_3,label = \"Bucket sort\")\n",
    "plt.plot(x,t5_3,label = \"Extended bucket merge sort\")\n",
    "\n",
    "#creating a title, legend and labeling x and y axes\n",
    "plt.title(\"Efficiency of 3 sorting algorithms in terms of \\n time required to sort a list\")\n",
    "plt.ylabel(\"Time (s)\")\n",
    "plt.xlabel(\"Value of k in the function that creates a list - \\n random.randrange(k*-100, k*100) for i in range(k*100)\")\n",
    "plt.legend(loc=\"upper left\")"
   ]
  },
  {
   "cell_type": "markdown",
   "metadata": {},
   "source": [
    "Our prediction was correct and we can see how for widely distributed lists, the advantage of the extended bucket sort is diminished. \n",
    "\n",
    "Once again, it is important to mention that performance of these algorithm is valid not in all cases. The time it takes to sort and algorithm depends on the speed of the computer and therefore, these results would likely be different for more or less powerful computers. A more objective measure of the efficiency would be a number of steps as it would depend solely on the algorithm and not on any characteristics of the computer."
   ]
  },
  {
   "cell_type": "markdown",
   "metadata": {
    "deletable": false,
    "editable": false,
    "nbgrader": {
     "checksum": "72149ac74d7f27ebbcdeaa8dd8419c1f",
     "grade": false,
     "grade_id": "cell-3c5032287675ae90",
     "locked": true,
     "schema_version": 1,
     "solution": false
    }
   },
   "source": [
    "## [Optional challenge] Question 8 (#SortingAlgorithm and/or #ComputationalCritique) \n",
    "\n",
    "Implement k-way merge sort, where the user specifies k. Develop and run experiments to support a hypothesis about the “best” value of k.\n"
   ]
  },
  {
   "cell_type": "code",
   "execution_count": 23,
   "metadata": {
    "deletable": false,
    "nbgrader": {
     "checksum": "26d404273e9e57cc94a872d6ab25b565",
     "grade": true,
     "grade_id": "cell-30f70f3f9d3ec067",
     "locked": false,
     "points": 0,
     "schema_version": 1,
     "solution": true
    }
   },
   "outputs": [
    {
     "ename": "NotImplementedError",
     "evalue": "",
     "output_type": "error",
     "traceback": [
      "\u001b[0;31m---------------------------------------------------------------------------\u001b[0m",
      "\u001b[0;31mNotImplementedError\u001b[0m                       Traceback (most recent call last)",
      "\u001b[0;32m<ipython-input-23-15b94d1fa268>\u001b[0m in \u001b[0;36m<module>\u001b[0;34m()\u001b[0m\n\u001b[1;32m      1\u001b[0m \u001b[0;31m# YOUR CODE HERE\u001b[0m\u001b[0;34m\u001b[0m\u001b[0;34m\u001b[0m\u001b[0m\n\u001b[0;32m----> 2\u001b[0;31m \u001b[0;32mraise\u001b[0m \u001b[0mNotImplementedError\u001b[0m\u001b[0;34m(\u001b[0m\u001b[0;34m)\u001b[0m\u001b[0;34m\u001b[0m\u001b[0m\n\u001b[0m",
      "\u001b[0;31mNotImplementedError\u001b[0m: "
     ]
    }
   ],
   "source": [
    "# YOUR CODE HERE\n",
    "raise NotImplementedError()"
   ]
  }
 ],
 "metadata": {
  "kernelspec": {
   "display_name": "Python 3",
   "language": "python",
   "name": "python3"
  },
  "language_info": {
   "codemirror_mode": {
    "name": "ipython",
    "version": 3
   },
   "file_extension": ".py",
   "mimetype": "text/x-python",
   "name": "python",
   "nbconvert_exporter": "python",
   "pygments_lexer": "ipython3",
   "version": "3.6.5"
  }
 },
 "nbformat": 4,
 "nbformat_minor": 2
}
