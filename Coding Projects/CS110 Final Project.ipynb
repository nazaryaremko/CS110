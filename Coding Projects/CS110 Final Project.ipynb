{
 "cells": [
  {
   "cell_type": "code",
   "execution_count": 1,
   "metadata": {},
   "outputs": [],
   "source": [
    "#importing the libraries\n",
    "import math\n",
    "import random \n",
    "import string \n",
    "import statistics\n",
    "import time\n",
    "import matplotlib.pyplot as plt"
   ]
  },
  {
   "cell_type": "markdown",
   "metadata": {},
   "source": [
    "To start, we will writing some of the functions that will be helpful in the following tasks."
   ]
  },
  {
   "cell_type": "code",
   "execution_count": 2,
   "metadata": {},
   "outputs": [],
   "source": [
    "#this function creates an empty hash table of size N\n",
    "def empty_hash_table(N):\n",
    "    return [[] for n in range(N)]\n",
    "\n",
    "#this function will be used to add random words \n",
    "#to the hash_table when I test different hash functions\n",
    "def add_to_hash_table(hash_table, item, hash_function):\n",
    "    #finding a location where the item will be inserted\n",
    "    loc = hash_function(item, len(hash_table))\n",
    "    #appending the item to the location\n",
    "    hash_table[loc].append(item)\n",
    "    return hash_table\n",
    "\n",
    "def contains(hash_table, loc, i):\n",
    "    count = 0\n",
    "    for k in hash_table[loc]:\n",
    "        if k[0] == i:\n",
    "            count += 1\n",
    "    if count > 0:\n",
    "        return True\n",
    "    else:\n",
    "        return False\n",
    "\n",
    "#this function is used to convert a string \n",
    "#into an integer given a certain value of d\n",
    "#the reasons why i have it separately from the next function is because\n",
    "#I need to use it separately as well\n",
    "def string_convert(string, d):\n",
    "    count = 0\n",
    "    for i in range(len(string)):\n",
    "        count += ord(string[i])*(d**(len(string)-1-i))\n",
    "    return count\n",
    "\n",
    "#this hash function takes an integer and returns a locaiton in a hash table\n",
    "def hash1(integer, len_hash):\n",
    "    return integer%len_hash"
   ]
  },
  {
   "cell_type": "markdown",
   "metadata": {},
   "source": [
    "In the first version of the string matching algorithm we will have to pick some arbitary values: for instance d and q. In every case, d will be 7 and q will be the length of the hash table. Both options are prime numbers are seem to be plausible for a given scenario. Another point that is important to mention that I decided to not only store the substrings themselves but also the indices that correspond to the position ot those substrings in the input strings. This allowed me to keep track what what substrings are matched."
   ]
  },
  {
   "cell_type": "code",
   "execution_count": 3,
   "metadata": {},
   "outputs": [
    {
     "data": {
      "text/plain": [
       "[[],\n",
       " [],\n",
       " [],\n",
       " [],\n",
       " [],\n",
       " [],\n",
       " [],\n",
       " [],\n",
       " [],\n",
       " [],\n",
       " [],\n",
       " [],\n",
       " [],\n",
       " [['agr', 0]],\n",
       " [['ay!', 7]],\n",
       " [],\n",
       " [],\n",
       " [['rea', 2], ['day', 6]],\n",
       " [],\n",
       " [],\n",
       " [],\n",
       " [['eat', 3]],\n",
       " [],\n",
       " [],\n",
       " [['atd', 4], ['tda', 5]],\n",
       " [],\n",
       " [],\n",
       " [],\n",
       " [],\n",
       " [],\n",
       " [],\n",
       " [['agr', 0], ['gre', 1]],\n",
       " [],\n",
       " [],\n",
       " []]"
      ]
     },
     "execution_count": 3,
     "metadata": {},
     "output_type": "execute_result"
    }
   ],
   "source": [
    "#this function creates a hash table that contains all substring with a length k \n",
    "def preprocessing(string, k, d):\n",
    "    #here we merge all the words together in a lower case form\n",
    "    string = string.lower().replace(' ', '')\n",
    "    #creating a hash table - I chose the hash_table to be \n",
    "    #5 times bigger than the size of the has_table\n",
    "    hash_table = empty_hash_table(5*(len(string)-k))\n",
    "    #adding the first substring to the hashtable to be able to\n",
    "    #start the rolling hashing\n",
    "    hash_table[hash1(string_convert(string[0:k], d), \n",
    "                     len(hash_table))].append([string[0:k],0])\n",
    "    for s in range(0, len(string)-k+1):\n",
    "        #calculating the hashing value for the substring k + 1 letter\n",
    "        h1 = (hash1(string_convert(string[s-1:s+k], d), len(hash_table))*d + \n",
    "              string_convert(string[s-1+k],d))%len(hash_table)\n",
    "        #substracting the value of the first letter of the k+1 string \n",
    "        #this is basically the \"rolling\" part of the algorithm \n",
    "        #we add one letter and then subtract the first one at each iteration\n",
    "        h2 = (h1 - string_convert(string[s-1],d)*\n",
    "              ((d**(k+1))%len(hash_table)))%len(hash_table)\n",
    "        #adding the substring to the hash table\n",
    "        if contains(hash_table, h2, string[s:s+k]) == False:\n",
    "            hash_table[h2].append([string[s:s+k], s])\n",
    "        else:\n",
    "            continue\n",
    "    return hash_table\n",
    "\n",
    "preprocessing(\"a great day!\", 3, 4)\n",
    "#i think it's not reaching the last substring"
   ]
  },
  {
   "cell_type": "markdown",
   "metadata": {},
   "source": [
    "Further we can proceed to the final version of the function in which we use the preprocessing function. We will create a hash table that contains all substrings of x and then go through all substring of y and check if they are in the hash table to identify potential matches."
   ]
  },
  {
   "cell_type": "code",
   "execution_count": 4,
   "metadata": {},
   "outputs": [
    {
     "data": {
      "text/plain": [
       "([19, 20, 21], [32, 33, 34])"
      ]
     },
     "execution_count": 4,
     "metadata": {},
     "output_type": "execute_result"
    }
   ],
   "source": [
    "#the final substring matching function with the rolling hashing\n",
    "#INPUT: two strings x and y, integer k which will define the length of the substring\n",
    "#OUTPUT: indeces of the \n",
    "def rh_get_match(x, y, k):\n",
    "    if x == '' or y == '':\n",
    "        return (\"One of the strings is empty, please use a non-empty input\")\n",
    "    else:\n",
    "        #creating the hashtable with all substrings of x\n",
    "        test_hash = preprocessing(x, k, 7)\n",
    "        #creating empty lists for the positions of x and y matches\n",
    "        y_matches = []\n",
    "        x_matches = []\n",
    "        #merging all the words together in a lower case form\n",
    "        y = y.lower().replace(' ', '')\n",
    "        x = x.lower().replace(' ', '')\n",
    "        #going through all substrings of y\n",
    "        for s in range(0, len(y)-k+1):\n",
    "            h1 = (hash1(string_convert(y[s-1:s+k], 7), len(test_hash))*7 \n",
    "                  + string_convert(y[s-1+k],7))%len(test_hash)\n",
    "            h2 = (h1 - string_convert(y[s-1],7)*((7**(k+1))%len(test_hash)))%len(test_hash)\n",
    "            #testing if the cell with the hash value of each substring is empty \n",
    "            if test_hash[h2] != []:\n",
    "                #if not then we go through each value in that cell\n",
    "                #to test if there is a match\n",
    "                for i in test_hash[h2]:\n",
    "                    #if yes tehn we print out the match and add indices to the lists x and y\n",
    "                    #NOTE: we don't count the white spaces when counting the indices\n",
    "                    if i[0] == y[s:s+k]:\n",
    "                        #print(\"MATCH:\", y[s:s+k], i[0])\n",
    "                        y_matches.append(s)\n",
    "                        x_matches.append(i[1])\n",
    "    return x_matches, y_matches\n",
    "                 \n",
    "    \n",
    "rh_get_match(\"Excuse me sir, but this chicken is mine\", \n",
    "             \"Hey boy, the let's go to kentucky fried chicken\", 5)\n"
   ]
  },
  {
   "cell_type": "markdown",
   "metadata": {},
   "source": [
    "Our small test seems to give a correct result. We will analyze the results more extensively after introducing the second version of the algorithm."
   ]
  },
  {
   "cell_type": "markdown",
   "metadata": {},
   "source": [
    "For the second algorithm we need to pick a new hash function and given that we do not have to use rolling hashing, our choice becomes much more flexible. After a short research in Cormen et. al., I decided to analyze a hash that was suggested in class session 7.2, a function that uses a float multiplication method, a function that simply adds the integers representing unicode characters and a function what we used in the rolling hashing which adds the integers representing unicode characters but also raises them to the power of d which changes at each iteration. Ultimately what we are looking for is a hash function that does not cause too many collisions (meaning it uniformly distributes the keys) to avoid significant inflation of the running time. To test the hash functions, we will create 100,000 random words and put them in the hash tables using four different hash functions. Finally, we will measure the average number of collisions by counting how many items are in every non-empty bucket."
   ]
  },
  {
   "cell_type": "code",
   "execution_count": 5,
   "metadata": {},
   "outputs": [],
   "source": [
    "#here are four hash function that I will analyze for comparison\n",
    "#some of them are obviously bad (hash3) but the other have potential to be good\n",
    "#I researched some hashing techniques in Cormen et al. to test them here\n",
    "\n",
    "#this hashing function goes through every character in a string\n",
    "#finds the integer that corresponds to each letter\n",
    "#adds it to the count and multiplies the count by 128\n",
    "#it returns a location in a hash table which depends on its size\n",
    "def hash2(string, len_hash):\n",
    "    count = 0\n",
    "    for chr in string:\n",
    "        count = count * 128 + ord(chr)\n",
    "    return count%len_hash\n",
    "\n",
    "#here we simply add the integers that corresponds to each character\n",
    "def hash3(string, len_hash):\n",
    "    count = 0\n",
    "    for chr in string:\n",
    "        count += ord(chr)\n",
    "    return count%len_hash\n",
    "\n",
    "#this is the multiplication hashing technique in which we multiply the \n",
    "#count by a float between 0 and 1 an floor the product\n",
    "def hash4(string, len_hash):\n",
    "    c = 0.07\n",
    "    count = 0\n",
    "    for chr in string:\n",
    "        count += ord(chr)\n",
    "    return math.floor(len_hash*(count*(c%1)))%len_hash\n",
    "\n",
    "#here we use a part of the rolling hasing function which adds the \n",
    "#integers that correspond to each number raised to a certain power \n",
    "#which depends on the position of the number in the string\n",
    "def hash5(string, len_hash):\n",
    "    count = string_convert(string, 7)\n",
    "    return count%len_hash"
   ]
  },
  {
   "cell_type": "code",
   "execution_count": 6,
   "metadata": {},
   "outputs": [
    {
     "name": "stdout",
     "output_type": "stream",
     "text": [
      "The average number of collisions with the first hash function is 20.0\n",
      "The average number of collisions with the second hash function is 561.7977528089888\n",
      "The average number of collisions with the third hash function is 1000.0\n",
      "The average number of collisions with the fourth hash function is 20.0\n"
     ]
    }
   ],
   "source": [
    "#a function that outputs a random word of a given length\n",
    "def randomword(length):\n",
    "    return ''.join(random.choice(string.ascii_lowercase) for i in range(length))\n",
    "\n",
    "#creating a list of 100000 random words\n",
    "words = []\n",
    "for i in range(100000):\n",
    "    words.append(randomword(10))\n",
    "\n",
    "#creaing 4 empty hashtables    \n",
    "hs1 = empty_hash_table(5000)\n",
    "hs2 = empty_hash_table(5000)\n",
    "hs3 = empty_hash_table(5000)\n",
    "hs4 = empty_hash_table(5000)\n",
    "\n",
    "#adding the words to every hash table using different hash functions\n",
    "for i in words:\n",
    "    add_to_hash_table(hs1, i, hash2)\n",
    "    add_to_hash_table(hs2, i, hash3)\n",
    "    add_to_hash_table(hs3, i, hash4)\n",
    "    add_to_hash_table(hs4, i, hash5)\n",
    "    \n",
    "#to check how good the hash functions are we want to measure the # of collisions\n",
    "#so we initiate the counts for the collisions \n",
    "count1 = count2 = count3 = count4 = 0\n",
    "n1 = n2 = n3 = n4 = 0\n",
    "\n",
    "#we update the counts to get the number of \n",
    "#non-empty buckets and number number of items in them\n",
    "for i in hs1:\n",
    "    if len(i) > 0:\n",
    "        count1 += len(i)\n",
    "        n1 += 1\n",
    "for i in hs2:\n",
    "    if len(i) > 0:\n",
    "        count2 += len(i) \n",
    "        n2 += 1\n",
    "for i in hs3:\n",
    "    if len(i) > 0:\n",
    "        count3 += len(i) \n",
    "        n3 += 1\n",
    "for i in hs4:\n",
    "    if len(i) > 0:\n",
    "        count4 += len(i)\n",
    "        n4 += 1\n",
    "    \n",
    "print('The average number of collisions with the first hash function is', count1/n1)\n",
    "print('The average number of collisions with the second hash function is',count2/n2)\n",
    "print('The average number of collisions with the third hash function is',count3/n3)\n",
    "print('The average number of collisions with the fourth hash function is',count4/n4)"
   ]
  },
  {
   "cell_type": "markdown",
   "metadata": {},
   "source": [
    "As we can see, the hash functions that produce the smallest number of collisions are hash1 and hash4. For the next tasks we will proceed with hash4."
   ]
  },
  {
   "cell_type": "code",
   "execution_count": 7,
   "metadata": {},
   "outputs": [
    {
     "data": {
      "text/plain": [
       "[[['d', 2]],\n",
       " [],\n",
       " [],\n",
       " [['s', 6]],\n",
       " [],\n",
       " [['e', 10]],\n",
       " [],\n",
       " [],\n",
       " [],\n",
       " [['t', 0]],\n",
       " [],\n",
       " [],\n",
       " [],\n",
       " [],\n",
       " [],\n",
       " [['g', 8]],\n",
       " [],\n",
       " [],\n",
       " [],\n",
       " [],\n",
       " [],\n",
       " [],\n",
       " [],\n",
       " [],\n",
       " [],\n",
       " [],\n",
       " [['i', 5]],\n",
       " [],\n",
       " [],\n",
       " [],\n",
       " [],\n",
       " [],\n",
       " [],\n",
       " [],\n",
       " [],\n",
       " [['y', 4]],\n",
       " [],\n",
       " [],\n",
       " [],\n",
       " [],\n",
       " [],\n",
       " [],\n",
       " [],\n",
       " [],\n",
       " [],\n",
       " [],\n",
       " [],\n",
       " [],\n",
       " [],\n",
       " [],\n",
       " [],\n",
       " [],\n",
       " [],\n",
       " [],\n",
       " [],\n",
       " [],\n",
       " [],\n",
       " [['o', 1]],\n",
       " [],\n",
       " [['a', 3]],\n",
       " [],\n",
       " [],\n",
       " [],\n",
       " [],\n",
       " [],\n",
       " [],\n",
       " [],\n",
       " [],\n",
       " [],\n",
       " [],\n",
       " [],\n",
       " [],\n",
       " [],\n",
       " [['r', 9]],\n",
       " []]"
      ]
     },
     "execution_count": 7,
     "metadata": {},
     "output_type": "execute_result"
    }
   ],
   "source": [
    "#here we create a hash table for the second approach\n",
    "def preprocessing2(string, k):\n",
    "    #here the everything is the same except we calculate the location \n",
    "    #in the hah table differently\n",
    "    string = string.lower().replace(' ', '')\n",
    "    hash_table = empty_hash_table(5*(len(string)-k))\n",
    "    for s in range(len(string)-k+1):\n",
    "        #we simply calculate it by using the hash function of our choice\n",
    "        #however, we check if such letter isn't already in the hash_table\n",
    "        #it is necessary for our plagiarism detection function \n",
    "        if contains(hash_table, hash4(string[s:s+k], len(hash_table)), string[s:s+k]) == False:\n",
    "            hash_table[hash4(string[s:s+k], \n",
    "                             len(hash_table))].append([string[s:s+k], s])\n",
    "        else: \n",
    "            continue\n",
    "    return hash_table\n",
    "\n",
    "preprocessing2(\"Today is a great day\", 1)"
   ]
  },
  {
   "cell_type": "code",
   "execution_count": 8,
   "metadata": {},
   "outputs": [
    {
     "data": {
      "text/plain": [
       "([20, 21, 22], [32, 33, 34])"
      ]
     },
     "execution_count": 8,
     "metadata": {},
     "output_type": "execute_result"
    }
   ],
   "source": [
    "def regular_get_match(x, y, k):\n",
    "    #here the process is the same as in the previous get_match function\n",
    "    if x == '' or y == '':\n",
    "        return (\"One of the strings is empty, please use a non-empty input\")\n",
    "    else:\n",
    "        test_hash = preprocessing2(x, k)\n",
    "        y_matches = []\n",
    "        x_matches = []\n",
    "        y = y.lower().replace(' ', '')\n",
    "        x = x.lower().replace(' ', '')\n",
    "        for s in range(len(y)-k+1):\n",
    "            #the only difference is the hash function that we are using\n",
    "            if test_hash[hash4(y[s:s+k], len(test_hash))] != []:\n",
    "                for i in test_hash[hash4(y[s:s+k], len(test_hash))]:\n",
    "                    if i[0] == y[s:s+k]:\n",
    "                        #print(\"MATCH:\", y[s:s+k], i[0])\n",
    "                        y_matches.append(s)\n",
    "                        x_matches.append(i[1])\n",
    "    return x_matches,y_matches\n",
    "\n",
    "regular_get_match(\"Excuse me sire, but this chicken is mine\", \n",
    "                  \"Hey boy, the let's go to kentucky fried chicken\", 5)\n",
    "\n"
   ]
  },
  {
   "cell_type": "markdown",
   "metadata": {},
   "source": [
    "As we can see, the regular_get_match function produced the same result as the rolling hashing version of the algorithm."
   ]
  },
  {
   "cell_type": "markdown",
   "metadata": {},
   "source": [
    "How we can test both algorithms using three different test cases. In the first test case we will use two identical strings, in the second test case we will use two strings that don't have any characters in common and in the last test case one of the substrings will be empty."
   ]
  },
  {
   "cell_type": "code",
   "execution_count": 9,
   "metadata": {},
   "outputs": [
    {
     "name": "stdout",
     "output_type": "stream",
     "text": [
      "60\n",
      "([0, 1, 2, 3, 4, 5, 6, 7, 8, 9, 10, 11, 12, 13, 14, 15, 16, 17, 18, 19, 20, 21, 22, 23, 24, 25, 26, 27, 28, 29, 30, 31, 32, 33, 34, 35, 36, 37, 38, 39, 40, 41, 42, 43, 44, 45, 46, 47, 48, 49, 50, 51, 52, 53, 54, 55], [0, 1, 2, 3, 4, 5, 6, 7, 8, 9, 10, 11, 12, 13, 14, 15, 16, 17, 18, 19, 20, 21, 22, 23, 24, 25, 26, 27, 28, 29, 30, 31, 32, 33, 34, 35, 36, 37, 38, 39, 40, 41, 42, 43, 44, 45, 46, 47, 48, 49, 50, 51, 52, 53, 54, 55])\n",
      "([0, 1, 2, 3, 4, 5, 6, 7, 8, 9, 10, 11, 12, 13, 14, 15, 16, 17, 18, 19, 20, 21, 22, 23, 24, 25, 26, 27, 28, 29, 30, 31, 32, 33, 34, 35, 36, 37, 38, 39, 40, 41, 42, 43, 44, 45, 46, 47, 48, 49, 50, 51, 52, 53, 54, 55], [0, 1, 2, 3, 4, 5, 6, 7, 8, 9, 10, 11, 12, 13, 14, 15, 16, 17, 18, 19, 20, 21, 22, 23, 24, 25, 26, 27, 28, 29, 30, 31, 32, 33, 34, 35, 36, 37, 38, 39, 40, 41, 42, 43, 44, 45, 46, 47, 48, 49, 50, 51, 52, 53, 54, 55])\n",
      "___________________________\n",
      "([], [])\n",
      "([], [])\n",
      "___________________________\n",
      "One of the strings is empty, please use a non-empty input\n",
      "One of the strings is empty, please use a non-empty input\n"
     ]
    }
   ],
   "source": [
    "a1 = 'It is our choices that show what we truly are, far more than our abilities'\n",
    "print(len(a1.lower().replace(' ', '')))\n",
    "b1 = 'Ooops, I did it again'\n",
    "b2 = 'wPk zym'\n",
    "\n",
    "c3 = ''\n",
    "\n",
    "print(rh_get_match(a1, a1, 5))\n",
    "print(regular_get_match(a1, a1, 5))\n",
    "print(\"___________________________\")\n",
    "print(rh_get_match(b1, b2, 5))\n",
    "print(regular_get_match(b1, b2, 5))\n",
    "print(\"___________________________\")\n",
    "print(rh_get_match(a1, c3, 5))\n",
    "print(regular_get_match(a1, c3, 5))\n"
   ]
  },
  {
   "cell_type": "markdown",
   "metadata": {},
   "source": [
    "As expected, in the first case both algorithms return all of the indices (except for the last k ones). Further, as expected both algorithm return empty lists for the second case and an error for the last case. We can conclude that both algorithms work well."
   ]
  },
  {
   "cell_type": "markdown",
   "metadata": {},
   "source": [
    "Since these algortihms allow us to basically see how similar two text strings are, we can use them for plagiarism detection. A way to use the algorithms is calculating the number of matches and dividing it by the number of all potential substrings. This will give us a percentage of the identical substrings and therefore the level of similarity between two strings. In the next cell, I will provide two new strings to test the algorithm."
   ]
  },
  {
   "cell_type": "code",
   "execution_count": 10,
   "metadata": {},
   "outputs": [],
   "source": [
    "d1 = 'plagiarism is an act or instance of using or closely imitating the language and thoughts of another author without authorization'\n",
    "d2 = 'plagiarism is an act of copying the ideas or words of another person without giving credit to that person'\n"
   ]
  },
  {
   "cell_type": "code",
   "execution_count": 11,
   "metadata": {},
   "outputs": [
    {
     "name": "stdout",
     "output_type": "stream",
     "text": [
      "('The similarity level for strings is', 18.478260869565215)\n",
      "('The similarity level for strings is', 100.0)\n",
      "('The similarity level for strings is', 0.0)\n"
     ]
    }
   ],
   "source": [
    "#function that returns the percentage of the similarity of two texts\n",
    "#INPUT: two texts, integer k that finds matching substrings of length k\n",
    "def similarity_detection(text1, text2, k):\n",
    "    #fidning the number of matching substrings in one of the lists that the \n",
    "    #get_match functions output and multiplying it by 2 because the number of matches \n",
    "    #is equal in both lists\n",
    "    a = len(regular_get_match(text1, text2, k)[1])*2\n",
    "    #counting the number of characters in each text\n",
    "    b = len(text1.lower().replace(' ', ''))\n",
    "    c = len(text2.lower().replace(' ', ''))\n",
    "    #returning the similarity percentage which in which we divide the number of matches \n",
    "    #by the overall number of substrings in both texts\n",
    "    return \"The similarity level for strings is\", a/(b+c-2*(k-1)) * 100\n",
    "            \n",
    "print(similarity_detection(d1, d2, 7))\n",
    "print(similarity_detection(a1, a1, 3))\n",
    "print(similarity_detection(b1, b2, 7))"
   ]
  },
  {
   "cell_type": "markdown",
   "metadata": {},
   "source": [
    "As we can see, the results look somewhat plausible. For two somewhat similar strings, the similarity percentage is 18.48%, and for two edge cases the similarities are 100% and 0% as expected. Further we can test whether the results are the same if we use the second algorithm."
   ]
  },
  {
   "cell_type": "code",
   "execution_count": 12,
   "metadata": {},
   "outputs": [
    {
     "name": "stdout",
     "output_type": "stream",
     "text": [
      "('The similarity level is', 18.478260869565215)\n",
      "('The similarity level is', 100.0)\n",
      "('The similarity level is', 0.0)\n"
     ]
    }
   ],
   "source": [
    "def similarity_detection2(text1, text2, k):\n",
    "    a = len(rh_get_match(text1, text2, k)[1])*2\n",
    "    b = len(text1.lower().replace(' ', ''))\n",
    "    c = len(text2.lower().replace(' ', ''))\n",
    "    return \"The similarity level is\", a/(b+c-2*(k-1)) * 100\n",
    "            \n",
    "#checking if the results are the same with the second algorithm\n",
    "print(similarity_detection2(d1, d2, 7))\n",
    "print(similarity_detection2(a1, a1, 7))\n",
    "print(similarity_detection2(b1, b2, 7))"
   ]
  },
  {
   "cell_type": "markdown",
   "metadata": {},
   "source": [
    "As we can see, they are indeed the same."
   ]
  },
  {
   "cell_type": "markdown",
   "metadata": {},
   "source": [
    "The advantage of this algorithm is that it allows us to identify the identical substrings from two texts and by manipulating one line of the code we can make the code return all of the matches. One of the disadvantages of this algorithm is that if we pick a k that is too small, it will inflate the similarity percentage because the same word can consist of a couple of substrings. For instance if the word \"amazing\" is in both texts and the k is 4 then the common matches would be \"amaz\", \"mazi\", \"azin\" and \"zing\" which is 4 similarities instead of 1. A way to overcome this would be picking a k that is large enough to avoid that - 6 and higher (since the filler words that might repeat a lot usually consist of 3-4-5 letters). Further, we would have to identigy a threshold that will define whether one of the strings is plagiarized. This would depend on the particular field we are talking about - for instance if we compared two physics or math reports, the threshold would probably have to be higher because technical jargon might be repeated a lot (for instance I used the word \"matrix\" around 60 times in my CS111B final project), whereas for AH essays, the threshold would have to be lower.  \n",
    "\n",
    "The problems that I see with this algorithm include:  \n",
    "a) The function does not distinguish between what are the words in English and what are not the words, so many matches that it would return are nonsense words. A way to overcome that would be to have a hash table with all English words and just check every match - if it is in the dictionry, we can use it for calculating the similarities. Even taking that into account, the algorithm would make mistakes because some substring might indeed be words but in the actual text they just happened to be a part of a word (i.e., CATegory & advoCATions).  \n"
   ]
  },
  {
   "cell_type": "markdown",
   "metadata": {},
   "source": [
    "**Time complexity of two versions of string matching algorithms**  \n",
    "To identify the time complexities of both algorithms we can looks the the codes and identify important parts that would contribute to the asymptotic growth of the runtime. Let's call the length of the first stirng m and the length of the second string n. For the rh_get_match algorithm, the first part of the code is the preprocessing function. In the for loop that is a part of the preprocessing step, we are doing through m-k substrings. For each of the substrings we calculate a hash value and the run time of such process depends on the length of the substring. We do not really care about the growth of the runtime of the hashing function because k will always stay as a relatively small and the runtime of the algorithm will generally depend on the lengths of the strings. Further after the preprocessing step, we will iterate through n-k substrings of the second string. In that case also use the same hashing function. Another part of the algorithm that needs to be considered is the for loop in which we are going through all items in non-empty cells and the run time of that for loop would depend on the number of collisions in the cells of the hash table - given the tests that we performed, both hash functions that were used for the rh_get_match and regular_get_match algorithms were pretty efficient at resolving collisions, so we will not take into account the runtime growth from that part of the code. Finally, my prediction is that the overall time complexity would then be $O(m-k+(n-k))$ = $O(m+n-2*k))$. The same time complexity would apply to another algorithm which has the same structure, expect a different hash function used. Therefore, we would expect the runtime difference come entirely from the efficiency of the hash functions.  \n",
    "Now we can create a function that will genereate strings with which we can analyze the asymptotic growth of the running time for both algorithms."
   ]
  },
  {
   "cell_type": "code",
   "execution_count": 13,
   "metadata": {},
   "outputs": [],
   "source": [
    "#a function that create one big string using as many words as we specify\n",
    "def string_generator(n):\n",
    "    words = []\n",
    "    for i in range(0,n):\n",
    "        words.append(randomword(10))\n",
    "    words1 = [words[0]]\n",
    "    for i in words:\n",
    "        words1[0] = words1[0]+i\n",
    "    return words1"
   ]
  },
  {
   "cell_type": "code",
   "execution_count": 21,
   "metadata": {},
   "outputs": [],
   "source": [
    "#here we are creating two lists in which we will store the run times\n",
    "t1_1 = []\n",
    "t1_2 = []\n",
    "#at each iteration we \n",
    "for i in range(1, 1000, 10):\n",
    "    test1 = []\n",
    "    test2 = []\n",
    "    for k in range(10): \n",
    "        string1 = string_generator(i)\n",
    "        a1 = time.time()\n",
    "        regular_get_match(string1[0], string1[0], 2)\n",
    "        b1 = time.time()\n",
    "        test1.append(b1-a1)\n",
    "        a2 = time.time()\n",
    "        rh_get_match(string1[0], string1[0], 2)\n",
    "        b2 = time.time()\n",
    "        test2.append(b2-a2)\n",
    "    t1_1.append(sum(test1)/len(test1))\n",
    "    t1_2.append(sum(test2)/len(test2))"
   ]
  },
  {
   "cell_type": "code",
   "execution_count": 22,
   "metadata": {},
   "outputs": [
    {
     "data": {
      "image/png": "[encoded data removed]",
      "text/plain": [
       "<Figure size 432x288 with 1 Axes>"
      ]
     },
     "metadata": {},
     "output_type": "display_data"
    }
   ],
   "source": [
    "#here we are plotting the time it takes to find the matches\n",
    "x = list(range(1, 1000, 10))\n",
    "\n",
    "plt.plot(x,t1_1,label = \"Regular get match\")\n",
    "plt.plot(x,t1_2,label = \"Rolling hashing get match\")\n",
    "\n",
    "plt.title(\"Efficiency of 2 different string detection algorithms \\n for identical strings\")\n",
    "plt.ylabel(\"Time (s)\")\n",
    "plt.xlabel(\"Size of input\")\n",
    "plt.legend(loc=\"upper left\")\n",
    "plt.show()"
   ]
  },
  {
   "cell_type": "code",
   "execution_count": 23,
   "metadata": {},
   "outputs": [],
   "source": [
    "t2_1 = []\n",
    "t2_2 = []\n",
    "\n",
    "#here we also recor the run times but this time for two random strings\n",
    "#we randomly create the first one and then shuffle it to make the second string\n",
    "for i in range(1, 1000, 10):\n",
    "    test1 = []\n",
    "    test2 = []\n",
    "    for k in range(10): \n",
    "        string1 = string_generator(i)\n",
    "        l = list(string1[0])\n",
    "        random.shuffle(l)\n",
    "        string2 = ''.join(l)\n",
    "    \n",
    "        a1 = time.time()\n",
    "        regular_get_match(string1[0], string2, 2)\n",
    "        b1 = time.time()\n",
    "        test1.append(b1-a1)\n",
    "    \n",
    "        a2 = time.time()\n",
    "        rh_get_match(string1[0], string2, 2)\n",
    "        b2 = time.time()\n",
    "        test2.append(b2-a2)\n",
    "    t2_1.append(sum(test1)/len(test1))\n",
    "    t2_2.append(sum(test2)/len(test2))"
   ]
  },
  {
   "cell_type": "code",
   "execution_count": 24,
   "metadata": {},
   "outputs": [
    {
     "data": {
      "text/plain": [
       "<matplotlib.legend.Legend at 0x1124aa128>"
      ]
     },
     "execution_count": 24,
     "metadata": {},
     "output_type": "execute_result"
    },
    {
     "data": {
      "image/png": "[encoded data removed]",
      "text/plain": [
       "<Figure size 432x288 with 1 Axes>"
      ]
     },
     "metadata": {},
     "output_type": "display_data"
    }
   ],
   "source": [
    "x = list(range(1, 1000, 10))\n",
    "\n",
    "plt.plot(x,t2_1,label = \"Regular get match\")\n",
    "plt.plot(x,t2_2,label = \"Rolling hashing get match\")\n",
    "\n",
    "plt.title(\"Efficiency of 2 different string detection algorithms \\n for two random strings \")\n",
    "plt.ylabel(\"Time (s)\")\n",
    "plt.xlabel(\"Size of input\")\n",
    "plt.legend(loc=\"upper left\")"
   ]
  },
  {
   "cell_type": "markdown",
   "metadata": {},
   "source": [
    "As we can see, in both cases the regular get match function performs better which is quite unexpected given that in the instructions of the assignment it was mentioned that by not using the rolling hashing we are compromising the running time. The potential reasoning for such difference is the way we calculate the hash values in both cases - in case of the rolling hashing, there are more constants that are needed to calcualte the hashing value. Another observation is that in both cases, although slightly difference the growth is linear, so my estimation of the time complexity is plausible. "
   ]
  }
 ],
 "metadata": {
  "kernelspec": {
   "display_name": "Python 3",
   "language": "python",
   "name": "python3"
  },
  "language_info": {
   "codemirror_mode": {
    "name": "ipython",
    "version": 3
   },
   "file_extension": ".py",
   "mimetype": "text/x-python",
   "name": "python",
   "nbconvert_exporter": "python",
   "pygments_lexer": "ipython3",
   "version": "3.6.5"
  }
 },
 "nbformat": 4,
 "nbformat_minor": 2
}
